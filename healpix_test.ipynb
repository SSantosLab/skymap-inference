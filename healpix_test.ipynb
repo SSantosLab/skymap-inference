{
 "cells": [
  {
   "cell_type": "code",
   "execution_count": 1,
   "id": "6011e883-47a6-4dea-98af-fa71985fd7f3",
   "metadata": {},
   "outputs": [],
   "source": [
    "import pylab\n",
    "from pycbc.frame import read_frame\n",
    "from gwosc.datasets import event_gps\n",
    "from gwpy.timeseries import TimeSeries as TS\n",
    "import bilby\n",
    "from bilby.gw.conversion import convert_to_lal_binary_black_hole_parameters, generate_all_bbh_parameters\n",
    "import numpy as np\n",
    "import healpy as hp\n",
    "%matplotlib inline\n",
    "\n",
    "merger = \"GW170814\"\n",
    "gps = float(event_gps(merger))"
   ]
  },
  {
   "cell_type": "code",
   "execution_count": 2,
   "id": "8dc6e52a-6842-49df-a2e7-582987d22ce3",
   "metadata": {},
   "outputs": [
    {
     "name": "stderr",
     "output_type": "stream",
     "text": [
      "11:29 bilby INFO    : Reading data from frame file data/GW170814_L1_4KHZ.gwf\n",
      "11:29 bilby INFO    : Successfully loaded L1:GWOSC-4KHZ_R1_STRAIN.\n",
      "11:29 bilby INFO    : Reading data from frame file data/GW170814_H1_4KHZ.gwf\n",
      "11:29 bilby INFO    : Successfully loaded H1:GWOSC-4KHZ_R1_STRAIN.\n",
      "11:29 bilby INFO    : Reading data from frame file data/GW170814_V1_4KHZ.gwf\n",
      "11:29 bilby INFO    : Successfully loaded V1:GWOSC-4KHZ_R1_STRAIN.\n"
     ]
    }
   ],
   "source": [
    "sampling_rate = 4096\n",
    "duration = 4. # length of data in seconds\n",
    "start_time = gps-duration/2\n",
    "\n",
    "interferometers = bilby.gw.detector.InterferometerList([])\n",
    "\n",
    "for ifo_name in ['L1', 'H1', 'V1']:\n",
    "    ifo = bilby.gw.detector.get_empty_interferometer(ifo_name)\n",
    "    ifo.set_strain_data_from_frame_file('data/'+merger+'_'+ifo_name+'_4KHZ.gwf', sampling_rate, duration, start_time=start_time, channel=ifo_name+':GWOSC-4KHZ_R1_STRAIN')\n",
    "    ifo.maximum_frequency = 2048\n",
    "    interferometers.append(ifo)\n",
    "\n",
    "psd_alpha = 2 * interferometers[0].strain_data.roll_off / 4\n",
    "\n",
    "L1_psd_data = TS.read('data/'+merger+'_L1_PSD.gwf', 'Strain')\n",
    "L1_psd = L1_psd_data.psd(fftlength=4, overlap=0, window=(\"tukey\", psd_alpha), method=\"median\")\n",
    "interferometers[0].power_spectral_density = bilby.gw.detector.PowerSpectralDensity(frequency_array=L1_psd.frequencies.value, psd_array=L1_psd.value)\n",
    "\n",
    "H1_psd_data = TS.read('data/'+merger+'_H1_PSD.gwf', 'Strain')\n",
    "H1_psd = H1_psd_data.psd(fftlength=4, overlap=0, window=(\"tukey\", psd_alpha), method=\"median\")\n",
    "interferometers[1].power_spectral_density = bilby.gw.detector.PowerSpectralDensity(frequency_array=H1_psd.frequencies.value, psd_array=H1_psd.value)\n",
    "\n",
    "V1_psd_data = TS.read('data/'+merger+'_V1_PSD.gwf', 'Strain')\n",
    "V1_psd = V1_psd_data.psd(fftlength=4, overlap=0, window=(\"tukey\", psd_alpha), method=\"median\")\n",
    "interferometers[2].power_spectral_density = bilby.gw.detector.PowerSpectralDensity(frequency_array=V1_psd.frequencies.value, psd_array=V1_psd.value)"
   ]
  },
  {
   "cell_type": "code",
   "execution_count": 3,
   "id": "e88ad972-07d1-4a94-ad93-0dda62d86260",
   "metadata": {},
   "outputs": [
    {
     "data": {
      "image/png": "[encoded data removed]",
      "text/plain": [
       "<Figure size 612x388.8 with 2 Axes>"
      ]
     },
     "metadata": {
      "needs_background": "light"
     },
     "output_type": "display_data"
    }
   ],
   "source": [
    "NSIDE = 1024\n",
    "NPIX = hp.nside2npix(NSIDE)\n",
    "hp_map = np.zeros(NPIX)\n",
    "\n",
    "# bilby coordinates (ra, dec) -> healpix coordinates (pi/2 - dec, ra)\n",
    "ra, dec = (.79, -.83)\n",
    "theta, phi = (0.5*np.pi-dec, ra)\n",
    "\n",
    "hp_map[hp.query_disc(nside=NSIDE, vec=hp.ang2vec(theta, phi), radius=0.02)] = 1\n",
    "hp_map = hp.sphtfunc.smoothing(hp_map, sigma=0.04)\n",
    "hp_map[hp_map<1e-5] = 0\n",
    "hp_map = hp_map/np.linalg.norm(hp_map)\n",
    "hp.mollview(hp_map)"
   ]
  },
  {
   "cell_type": "code",
   "execution_count": 4,
   "id": "d37f549e-dd5e-4791-b940-cd1b936349af",
   "metadata": {},
   "outputs": [
    {
     "name": "stderr",
     "output_type": "stream",
     "text": [
      "setting the output map dtype to [dtype('float64')]\n"
     ]
    }
   ],
   "source": [
    "hp.fitsfunc.write_map('data/hp_test_map.fits', hp_map, overwrite=True)"
   ]
  },
  {
   "cell_type": "code",
   "execution_count": 5,
   "id": "50967b5c-dbfd-469f-bc38-2ca9ff2692fa",
   "metadata": {},
   "outputs": [
    {
     "data": {
      "image/png": "[encoded data removed]",
      "text/plain": [
       "<Figure size 612x388.8 with 2 Axes>"
      ]
     },
     "metadata": {
      "needs_background": "light"
     },
     "output_type": "display_data"
    }
   ],
   "source": [
    "hp_gw = hp.fitsfunc.read_map('data/GW170814_skymap.fits.gz')\n",
    "hp.mollview(hp_gw)"
   ]
  },
  {
   "cell_type": "code",
   "execution_count": 16,
   "id": "ea89ef7a-6f6e-44d6-8b9b-a1704bdf9e79",
   "metadata": {},
   "outputs": [
    {
     "name": "stderr",
     "output_type": "stream",
     "text": [
      "WARNING: AstropyDeprecationWarning: \"verbose\" was deprecated in version 1.15.0 and will be removed in a future version.  [bilby.gw.prior]\n",
      "12:02 bilby INFO    : Waveform generator initiated with\n",
      "  frequency_domain_source_model: bilby.gw.source.lal_binary_black_hole\n",
      "  time_domain_source_model: None\n",
      "  parameter_conversion: bilby.gw.conversion.convert_to_lal_binary_black_hole_parameters\n",
      "12:02 bilby INFO    : Loaded distance marginalisation lookup table from .distance_marginalization_lookup.npz.\n",
      "12:02 bilby INFO    : Running for label 'GW170814_hp_sim', output will be saved to 'short_hp'\n",
      "12:02 bilby INFO    : Using lal version 7.1.7\n",
      "12:02 bilby INFO    : Using lal git version Branch: None;Tag: lal-v7.1.7;Id: c0930b69d9f2ad7151d1cadea5df72633ec47e67;;Builder: Adam Mercer <adam.mercer@ligo.org>;Repository status: CLEAN: All modifications committed\n",
      "12:02 bilby INFO    : Using lalsimulation version 3.1.2\n",
      "12:02 bilby INFO    : Using lalsimulation git version Branch: None;Tag: lalsimulation-v3.1.2;Id: 8c3a6977aa553c9a2019ec287a61dc5ee92087b4;;Builder: Adam Mercer <adam.mercer@ligo.org>;Repository status: CLEAN: All modifications committed\n",
      "12:02 bilby INFO    : Search parameters:\n",
      "12:02 bilby INFO    :   mass_ratio = Uniform(minimum=0.125, maximum=1, name='mass_ratio', latex_label='$q$', unit=None, boundary=None)\n",
      "12:02 bilby INFO    :   chirp_mass = Uniform(minimum=25, maximum=31, name='chirp_mass', latex_label='$\\\\mathcal{M}$', unit=None, boundary=None)\n",
      "12:02 bilby INFO    :   a_1 = Uniform(minimum=0, maximum=0.99, name='a_1', latex_label='$a_1$', unit=None, boundary=None)\n",
      "12:02 bilby INFO    :   a_2 = Uniform(minimum=0, maximum=0.99, name='a_2', latex_label='$a_2$', unit=None, boundary=None)\n",
      "12:02 bilby INFO    :   tilt_1 = Sine(minimum=0, maximum=3.141592653589793, name='tilt_1', latex_label='$\\\\theta_1$', unit=None, boundary='reflective')\n",
      "12:02 bilby INFO    :   tilt_2 = Sine(minimum=0, maximum=3.141592653589793, name='tilt_2', latex_label='$\\\\theta_2$', unit=None, boundary='reflective')\n",
      "12:02 bilby INFO    :   phi_12 = Uniform(minimum=0, maximum=6.283185307179586, name='phi_12', latex_label='$\\\\Delta\\\\phi$', unit=None, boundary='periodic')\n",
      "12:02 bilby INFO    :   phi_jl = Uniform(minimum=0, maximum=6.283185307179586, name='phi_jl', latex_label='$\\\\phi_{JL}$', unit=None, boundary='periodic')\n",
      "12:02 bilby INFO    :   theta_jn = Sine(minimum=0, maximum=3.141592653589793, name='theta_jn', latex_label='$\\\\theta_{JN}$', unit=None, boundary='reflective')\n",
      "12:02 bilby INFO    :   psi = Uniform(minimum=0, maximum=3.141592653589793, name='psi', latex_label='$\\\\psi$', unit=None, boundary='periodic')\n",
      "12:02 bilby INFO    :   phase = Uniform(minimum=0, maximum=6.283185307179586, name='phase', latex_label='$\\\\phi$', unit=None, boundary='periodic')\n",
      "12:02 bilby INFO    :   ra = HealPixPrior(dist=HealPixMapPriorDist(hp_file='data/hp_test_map.fits', names=['ra', 'dec'], bounds={'ra': (0, 6.283185307179586), 'dec': (-1.5707963267948966, 1.5707963267948966)}, distance=False), name='ra', latex_label='$\\\\mathrm{RA}$', unit=None)\n",
      "12:02 bilby INFO    :   dec = HealPixPrior(dist=HealPixMapPriorDist(hp_file='data/hp_test_map.fits', names=['ra', 'dec'], bounds={'ra': (0, 6.283185307179586), 'dec': (-1.5707963267948966, 1.5707963267948966)}, distance=False), name='dec', latex_label='$\\\\mathrm{DEC}$', unit=None)\n",
      "12:02 bilby INFO    :   time_jitter = Uniform(minimum=-0.000244140625, maximum=0.000244140625, name='time_jitter', latex_label='$t_j$', unit=None, boundary='periodic')\n",
      "12:02 bilby INFO    :   mass_1 = Constraint(minimum=10, maximum=80, name='mass_1', latex_label='$m_1$', unit=None)\n",
      "12:02 bilby INFO    :   mass_2 = Constraint(minimum=10, maximum=80, name='mass_2', latex_label='$m_2$', unit=None)\n",
      "12:02 bilby INFO    :   luminosity_distance = 1587.4093196389506\n",
      "12:02 bilby INFO    :   geocent_time = 1186741859.5\n",
      "12:02 bilby INFO    : Single likelihood evaluation took 1.577e-01 s\n"
     ]
    },
    {
     "data": {
      "application/vnd.jupyter.widget-view+json": {
       "model_id": "6837358ac60f4e44b2fcf63e8fd16ea5",
       "version_major": 2,
       "version_minor": 0
      },
      "text/plain": [
       "0it [00:00, ?it/s]"
      ]
     },
     "metadata": {},
     "output_type": "display_data"
    },
    {
     "name": "stderr",
     "output_type": "stream",
     "text": [
      "12:02 bilby INFO    : Using sampler Dynesty with kwargs {'bound': 'multi', 'sample': 'rwalk', 'verbose': True, 'periodic': None, 'reflective': None, 'check_point_delta_t': 1800, 'nlive': 250, 'first_update': None, 'walks': 100, 'npdim': None, 'rstate': None, 'queue_size': 1, 'pool': None, 'use_pool': None, 'live_points': None, 'logl_args': None, 'logl_kwargs': None, 'ptform_args': None, 'ptform_kwargs': None, 'enlarge': 1.5, 'bootstrap': None, 'vol_dec': 0.5, 'vol_check': 8.0, 'facc': 0.2, 'slices': 5, 'update_interval': 150, 'print_func': <bound method Dynesty._print_func of <bilby.core.sampler.dynesty.Dynesty object at 0x7fb319432ee0>>, 'dlogz': 0.1, 'maxiter': None, 'maxcall': None, 'logl_max': inf, 'add_live': True, 'print_progress': True, 'save_bounds': False, 'n_effective': None, 'maxmcmc': 5000, 'nact': 5, 'print_method': 'tqdm'}\n",
      "12:02 bilby INFO    : Checkpoint every check_point_delta_t = 600s\n",
      "12:02 bilby INFO    : Using dynesty version 1.0.1\n",
      "12:02 bilby INFO    : Using the bilby-implemented rwalk sample method with ACT estimated walks\n",
      "12:02 bilby INFO    : Resume file short_hp/GW170814_hp_sim_resume.pickle does not exist.\n",
      "12:02 bilby INFO    : Generating initial points from the prior\n",
      "12:13 bilby INFO    : Written checkpoint file short_hp/GW170814_hp_sim_resume.pickle\n",
      "12:23 bilby INFO    : Written checkpoint file short_hp/GW170814_hp_sim_resume.pickle\n",
      "12:33 bilby INFO    : Written checkpoint file short_hp/GW170814_hp_sim_resume.pickle\n",
      "12:43 bilby INFO    : Written checkpoint file short_hp/GW170814_hp_sim_resume.pickle\n",
      "12:49 bilby INFO    : Written checkpoint file short_hp/GW170814_hp_sim_resume.pickle\n"
     ]
    },
    {
     "name": "stdout",
     "output_type": "stream",
     "text": [
      "\n"
     ]
    },
    {
     "name": "stderr",
     "output_type": "stream",
     "text": [
      "12:49 bilby INFO    : Sampling time: 0:46:05.536178\n",
      "12:49 bilby INFO    : Reconstructing marginalised parameters.\n"
     ]
    },
    {
     "data": {
      "application/vnd.jupyter.widget-view+json": {
       "model_id": "22e099bf2de9478bbd95c9a8c56838ff",
       "version_major": 2,
       "version_minor": 0
      },
      "text/plain": [
       "  0%|          | 0/4029 [00:00<?, ?it/s]"
      ]
     },
     "metadata": {},
     "output_type": "display_data"
    },
    {
     "name": "stderr",
     "output_type": "stream",
     "text": [
      "12:50 bilby INFO    : Generating sky frame parameters.\n"
     ]
    },
    {
     "data": {
      "application/vnd.jupyter.widget-view+json": {
       "model_id": "54f849479fc1487b856a2baa17914b0f",
       "version_major": 2,
       "version_minor": 0
      },
      "text/plain": [
       "  0%|          | 0/4029 [00:00<?, ?it/s]"
      ]
     },
     "metadata": {},
     "output_type": "display_data"
    },
    {
     "name": "stderr",
     "output_type": "stream",
     "text": [
      "12:50 bilby INFO    : Computing SNRs for every sample.\n"
     ]
    },
    {
     "data": {
      "application/vnd.jupyter.widget-view+json": {
       "model_id": "c4ef9098aeda45c0b6c6a49c9fac0bb2",
       "version_major": 2,
       "version_minor": 0
      },
      "text/plain": [
       "  0%|          | 0/4029 [00:00<?, ?it/s]"
      ]
     },
     "metadata": {},
     "output_type": "display_data"
    },
    {
     "name": "stderr",
     "output_type": "stream",
     "text": [
      "12:50 bilby INFO    : Summary of results:\n",
      "nsamples: 4029\n",
      "ln_noise_evidence: -26241.281\n",
      "ln_evidence: -26096.449 +/-  0.292\n",
      "ln_bayes_factor: 144.832 +/-  0.292\n",
      "\n"
     ]
    }
   ],
   "source": [
    "prior = bilby.core.prior.PriorDict()\n",
    "\n",
    "prior[\"mass_ratio\"] = bilby.core.prior.Uniform(name='mass_ratio', minimum=0.125, maximum=1)\n",
    "prior[\"chirp_mass\"] = bilby.core.prior.Uniform(name='chirp_mass', minimum=25, maximum=31)\n",
    "prior[\"mass_1\"] = bilby.core.prior.Constraint(name='mass_1', minimum=10, maximum=80)\n",
    "prior[\"mass_2\"] = bilby.core.prior.Constraint(name='mass_2', minimum=10, maximum=80)\n",
    "prior[\"a_1\"] = bilby.core.prior.Uniform(name='a_1', minimum=0, maximum=0.99)\n",
    "prior[\"a_2\"] = bilby.core.prior.Uniform(name='a_2', minimum=0, maximum=0.99)\n",
    "prior[\"tilt_1\"] = bilby.core.prior.Sine(name='tilt_1', boundary='reflective')\n",
    "prior[\"tilt_2\"] = bilby.core.prior.Sine(name='tilt_2', boundary='reflective')\n",
    "prior[\"phi_12\"] = bilby.core.prior.Uniform(name='phi_12', minimum=0, maximum=2 * np.pi, boundary='periodic')\n",
    "prior[\"phi_jl\"] = bilby.core.prior.Uniform(name='phi_jl', minimum=0, maximum=2 * np.pi, boundary='periodic')\n",
    "prior[\"luminosity_distance\"] = bilby.core.prior.PowerLaw(alpha=2, name='luminosity_distance', minimum=50, maximum=2000, unit='Mpc', latex_label='$d_L$')\n",
    "prior[\"theta_jn\"] = bilby.core.prior.Sine(name='theta_jn', boundary='reflective')\n",
    "prior[\"psi\"] = bilby.core.prior.Uniform(name='psi', minimum=0, maximum=np.pi, boundary='periodic')\n",
    "prior[\"phase\"] = bilby.core.prior.Uniform(name='phase', minimum=0, maximum=2 * np.pi, boundary='periodic')\n",
    "hp_prior = bilby.gw.prior.HealPixMapPriorDist('data/hp_test_map.fits')\n",
    "prior[\"ra\"] = bilby.gw.prior.HealPixPrior(hp_prior, 'ra')\n",
    "prior[\"dec\"] = bilby.gw.prior.HealPixPrior(hp_prior, 'dec')\n",
    "prior[\"geocent_time\"] = bilby.core.prior.Uniform(gps-0.1, gps+0.1, name=\"geocent_time\")\n",
    "\n",
    "waveform_arguments = dict(waveform_approximant='IMRPhenomPv2', reference_frequency=100., catch_waveform_errors=True)\n",
    "waveform_generator = bilby.gw.WaveformGenerator(\n",
    "    frequency_domain_source_model=bilby.gw.source.lal_binary_black_hole,\n",
    "    waveform_arguments=waveform_arguments,\n",
    "    parameter_conversion=convert_to_lal_binary_black_hole_parameters)\n",
    "\n",
    "likelihood = bilby.gw.likelihood.GravitationalWaveTransient(\n",
    "    interferometers, waveform_generator, priors=prior,\n",
    "    time_marginalization=True, phase_marginalization=False, distance_marginalization=False)\n",
    "\n",
    "result_short = bilby.run_sampler(\n",
    "    likelihood,\n",
    "    prior,\n",
    "    sampler='dynesty',\n",
    "    outdir='short_hp',\n",
    "    label='GW170814_hp_sim',\n",
    "    nlive=100\n",
    ")"
   ]
  },
  {
   "cell_type": "code",
   "execution_count": 17,
   "id": "d6e6da03-75dc-4458-94d1-2bbe94ff2ed5",
   "metadata": {},
   "outputs": [
    {
     "data": {
      "image/png": "[encoded data removed]",
      "text/plain": [
       "<Figure size 396x396 with 4 Axes>"
      ]
     },
     "execution_count": 17,
     "metadata": {},
     "output_type": "execute_result"
    }
   ],
   "source": [
    "result_short.plot_corner(parameters=[\"ra\", \"dec\"])"
   ]
  },
  {
   "cell_type": "code",
   "execution_count": 18,
   "id": "47fb8c16-e98d-4f5d-8d92-28bb8ed87a0e",
   "metadata": {},
   "outputs": [
    {
     "data": {
      "image/png": "[encoded data removed]",
      "text/plain": [
       "<Figure size 396x396 with 4 Axes>"
      ]
     },
     "execution_count": 18,
     "metadata": {},
     "output_type": "execute_result"
    }
   ],
   "source": [
    "result_short.plot_corner(parameters=[\"mass_1\", \"mass_2\"])"
   ]
  },
  {
   "cell_type": "code",
   "execution_count": 19,
   "id": "e36c10e2-ba72-4d05-be64-21f7ac0e43ab",
   "metadata": {},
   "outputs": [
    {
     "data": {
      "image/png": "[encoded data removed]",
      "text/plain": [
       "<Figure size 432x288 with 1 Axes>"
      ]
     },
     "execution_count": 19,
     "metadata": {},
     "output_type": "execute_result"
    }
   ],
   "source": [
    "result_short.plot_corner(parameters=[\"luminosity_distance\"])"
   ]
  },
  {
   "cell_type": "markdown",
   "id": "c6dddaa3-5369-4baf-87c2-76bc2eb324b7",
   "metadata": {},
   "source": [
    "Now using the published healpix map instead of the simulated one"
   ]
  },
  {
   "cell_type": "code",
   "execution_count": 14,
   "id": "e68cd3b8-8256-4ca2-9baa-94c518cadd14",
   "metadata": {},
   "outputs": [
    {
     "name": "stderr",
     "output_type": "stream",
     "text": [
      "WARNING: AstropyDeprecationWarning: \"verbose\" was deprecated in version 1.15.0 and will be removed in a future version.  [bilby.gw.prior]\n",
      "11:31 bilby INFO    : Waveform generator initiated with\n",
      "  frequency_domain_source_model: bilby.gw.source.lal_binary_black_hole\n",
      "  time_domain_source_model: None\n",
      "  parameter_conversion: bilby.gw.conversion.convert_to_lal_binary_black_hole_parameters\n",
      "11:31 bilby INFO    : Loaded distance marginalisation lookup table from .distance_marginalization_lookup.npz.\n",
      "11:31 bilby INFO    : Running for label 'GW170814_hp_true', output will be saved to 'short_hp'\n",
      "11:31 bilby INFO    : Using lal version 7.1.7\n",
      "11:31 bilby INFO    : Using lal git version Branch: None;Tag: lal-v7.1.7;Id: c0930b69d9f2ad7151d1cadea5df72633ec47e67;;Builder: Adam Mercer <adam.mercer@ligo.org>;Repository status: CLEAN: All modifications committed\n",
      "11:31 bilby INFO    : Using lalsimulation version 3.1.2\n",
      "11:31 bilby INFO    : Using lalsimulation git version Branch: None;Tag: lalsimulation-v3.1.2;Id: 8c3a6977aa553c9a2019ec287a61dc5ee92087b4;;Builder: Adam Mercer <adam.mercer@ligo.org>;Repository status: CLEAN: All modifications committed\n",
      "11:31 bilby INFO    : Search parameters:\n",
      "11:31 bilby INFO    :   mass_ratio = Uniform(minimum=0.125, maximum=1, name='mass_ratio', latex_label='$q$', unit=None, boundary=None)\n",
      "11:31 bilby INFO    :   chirp_mass = Uniform(minimum=25, maximum=31, name='chirp_mass', latex_label='$\\\\mathcal{M}$', unit=None, boundary=None)\n",
      "11:31 bilby INFO    :   a_1 = Uniform(minimum=0, maximum=0.99, name='a_1', latex_label='$a_1$', unit=None, boundary=None)\n",
      "11:31 bilby INFO    :   a_2 = Uniform(minimum=0, maximum=0.99, name='a_2', latex_label='$a_2$', unit=None, boundary=None)\n",
      "11:31 bilby INFO    :   tilt_1 = Sine(minimum=0, maximum=3.141592653589793, name='tilt_1', latex_label='$\\\\theta_1$', unit=None, boundary='reflective')\n",
      "11:31 bilby INFO    :   tilt_2 = Sine(minimum=0, maximum=3.141592653589793, name='tilt_2', latex_label='$\\\\theta_2$', unit=None, boundary='reflective')\n",
      "11:31 bilby INFO    :   phi_12 = Uniform(minimum=0, maximum=6.283185307179586, name='phi_12', latex_label='$\\\\Delta\\\\phi$', unit=None, boundary='periodic')\n",
      "11:31 bilby INFO    :   phi_jl = Uniform(minimum=0, maximum=6.283185307179586, name='phi_jl', latex_label='$\\\\phi_{JL}$', unit=None, boundary='periodic')\n",
      "11:31 bilby INFO    :   theta_jn = Sine(minimum=0, maximum=3.141592653589793, name='theta_jn', latex_label='$\\\\theta_{JN}$', unit=None, boundary='reflective')\n",
      "11:31 bilby INFO    :   psi = Uniform(minimum=0, maximum=3.141592653589793, name='psi', latex_label='$\\\\psi$', unit=None, boundary='periodic')\n",
      "11:31 bilby INFO    :   phase = Uniform(minimum=0, maximum=6.283185307179586, name='phase', latex_label='$\\\\phi$', unit=None, boundary='periodic')\n",
      "11:31 bilby INFO    :   ra = HealPixPrior(dist=HealPixMapPriorDist(hp_file='data/GW170814_skymap.fits.gz', names=['ra', 'dec'], bounds={'ra': (0, 6.283185307179586), 'dec': (-1.5707963267948966, 1.5707963267948966)}, distance=False), name='ra', latex_label='$\\\\mathrm{RA}$', unit=None)\n",
      "11:31 bilby INFO    :   dec = HealPixPrior(dist=HealPixMapPriorDist(hp_file='data/GW170814_skymap.fits.gz', names=['ra', 'dec'], bounds={'ra': (0, 6.283185307179586), 'dec': (-1.5707963267948966, 1.5707963267948966)}, distance=False), name='dec', latex_label='$\\\\mathrm{DEC}$', unit=None)\n",
      "11:31 bilby INFO    :   time_jitter = Uniform(minimum=-0.000244140625, maximum=0.000244140625, name='time_jitter', latex_label='$t_j$', unit=None, boundary='periodic')\n",
      "11:31 bilby INFO    :   mass_1 = Constraint(minimum=10, maximum=80, name='mass_1', latex_label='$m_1$', unit=None)\n",
      "11:31 bilby INFO    :   mass_2 = Constraint(minimum=10, maximum=80, name='mass_2', latex_label='$m_2$', unit=None)\n",
      "11:31 bilby INFO    :   luminosity_distance = 1587.4093196389506\n",
      "11:31 bilby INFO    :   geocent_time = 1186741859.5\n",
      "11:31 bilby INFO    : Single likelihood evaluation took 1.620e-01 s\n"
     ]
    },
    {
     "data": {
      "application/vnd.jupyter.widget-view+json": {
       "model_id": "2e507abd8a7044358d252045a1e83972",
       "version_major": 2,
       "version_minor": 0
      },
      "text/plain": [
       "0it [00:00, ?it/s]"
      ]
     },
     "metadata": {},
     "output_type": "display_data"
    },
    {
     "name": "stderr",
     "output_type": "stream",
     "text": [
      "11:31 bilby INFO    : Using sampler Dynesty with kwargs {'bound': 'multi', 'sample': 'rwalk', 'verbose': True, 'periodic': None, 'reflective': None, 'check_point_delta_t': 1800, 'nlive': 100, 'first_update': None, 'walks': 100, 'npdim': None, 'rstate': None, 'queue_size': 1, 'pool': None, 'use_pool': None, 'live_points': None, 'logl_args': None, 'logl_kwargs': None, 'ptform_args': None, 'ptform_kwargs': None, 'enlarge': 1.5, 'bootstrap': None, 'vol_dec': 0.5, 'vol_check': 8.0, 'facc': 0.2, 'slices': 5, 'update_interval': 60, 'print_func': <bound method Dynesty._print_func of <bilby.core.sampler.dynesty.Dynesty object at 0x7fb305fac2e0>>, 'dlogz': 0.1, 'maxiter': None, 'maxcall': None, 'logl_max': inf, 'add_live': True, 'print_progress': True, 'save_bounds': False, 'n_effective': None, 'maxmcmc': 5000, 'nact': 5, 'print_method': 'tqdm'}\n",
      "11:31 bilby INFO    : Checkpoint every check_point_delta_t = 600s\n",
      "11:31 bilby INFO    : Using dynesty version 1.0.1\n",
      "11:31 bilby INFO    : Using the bilby-implemented rwalk sample method with ACT estimated walks\n",
      "11:31 bilby INFO    : Resume file short_hp/GW170814_hp_true_resume.pickle does not exist.\n",
      "11:31 bilby INFO    : Generating initial points from the prior\n",
      "/home/imcmahon/miniconda3/envs/igwn-py39/lib/python3.9/site-packages/dynesty/dynesty.py:373: UserWarning: A note of caution: having `nlive < ndim * (ndim + 1) // 2` may result in unconstrained bounding distributions.\n",
      "  warnings.warn(\"A note of caution: \"\n",
      "11:42 bilby INFO    : Written checkpoint file short_hp/GW170814_hp_true_resume.pickle\n",
      "11:52 bilby INFO    : Written checkpoint file short_hp/GW170814_hp_true_resume.pickle\n",
      "11:58 bilby INFO    : Written checkpoint file short_hp/GW170814_hp_true_resume.pickle\n",
      "11:58 bilby INFO    : Sampling time: 0:26:25.774846\n",
      "11:58 bilby INFO    : Reconstructing marginalised parameters.\n"
     ]
    },
    {
     "name": "stdout",
     "output_type": "stream",
     "text": [
      "\n"
     ]
    },
    {
     "data": {
      "application/vnd.jupyter.widget-view+json": {
       "model_id": "2104595b720947a58387be4b10376323",
       "version_major": 2,
       "version_minor": 0
      },
      "text/plain": [
       "  0%|          | 0/1574 [00:00<?, ?it/s]"
      ]
     },
     "metadata": {},
     "output_type": "display_data"
    },
    {
     "name": "stderr",
     "output_type": "stream",
     "text": [
      "11:58 bilby INFO    : Generating sky frame parameters.\n"
     ]
    },
    {
     "data": {
      "application/vnd.jupyter.widget-view+json": {
       "model_id": "74e23c065f9c412ea957b1b011be8b43",
       "version_major": 2,
       "version_minor": 0
      },
      "text/plain": [
       "  0%|          | 0/1574 [00:00<?, ?it/s]"
      ]
     },
     "metadata": {},
     "output_type": "display_data"
    },
    {
     "name": "stderr",
     "output_type": "stream",
     "text": [
      "11:58 bilby INFO    : Computing SNRs for every sample.\n"
     ]
    },
    {
     "data": {
      "application/vnd.jupyter.widget-view+json": {
       "model_id": "8888c664346a4684b2c6f141eac8e9fc",
       "version_major": 2,
       "version_minor": 0
      },
      "text/plain": [
       "  0%|          | 0/1574 [00:00<?, ?it/s]"
      ]
     },
     "metadata": {},
     "output_type": "display_data"
    },
    {
     "name": "stderr",
     "output_type": "stream",
     "text": [
      "11:59 bilby INFO    : Summary of results:\n",
      "nsamples: 1574\n",
      "ln_noise_evidence: -26241.281\n",
      "ln_evidence: -26097.390 +/-  0.433\n",
      "ln_bayes_factor: 143.891 +/-  0.433\n",
      "\n"
     ]
    }
   ],
   "source": [
    "prior = bilby.core.prior.PriorDict()\n",
    "\n",
    "prior[\"mass_ratio\"] = bilby.core.prior.Uniform(name='mass_ratio', minimum=0.125, maximum=1)\n",
    "prior[\"chirp_mass\"] = bilby.core.prior.Uniform(name='chirp_mass', minimum=25, maximum=31)\n",
    "prior[\"mass_1\"] = bilby.core.prior.Constraint(name='mass_1', minimum=10, maximum=80)\n",
    "prior[\"mass_2\"] = bilby.core.prior.Constraint(name='mass_2', minimum=10, maximum=80)\n",
    "prior[\"a_1\"] = bilby.core.prior.Uniform(name='a_1', minimum=0, maximum=0.99)\n",
    "prior[\"a_2\"] = bilby.core.prior.Uniform(name='a_2', minimum=0, maximum=0.99)\n",
    "prior[\"tilt_1\"] = bilby.core.prior.Sine(name='tilt_1', boundary='reflective')\n",
    "prior[\"tilt_2\"] = bilby.core.prior.Sine(name='tilt_2', boundary='reflective')\n",
    "prior[\"phi_12\"] = bilby.core.prior.Uniform(name='phi_12', minimum=0, maximum=2 * np.pi, boundary='periodic')\n",
    "prior[\"phi_jl\"] = bilby.core.prior.Uniform(name='phi_jl', minimum=0, maximum=2 * np.pi, boundary='periodic')\n",
    "prior[\"luminosity_distance\"] = bilby.core.prior.PowerLaw(alpha=2, name='luminosity_distance', minimum=50, maximum=2000, unit='Mpc', latex_label='$d_L$')\n",
    "prior[\"theta_jn\"] = bilby.core.prior.Sine(name='theta_jn', boundary='reflective')\n",
    "prior[\"psi\"] = bilby.core.prior.Uniform(name='psi', minimum=0, maximum=np.pi, boundary='periodic')\n",
    "prior[\"phase\"] = bilby.core.prior.Uniform(name='phase', minimum=0, maximum=2 * np.pi, boundary='periodic')\n",
    "hp_prior = bilby.gw.prior.HealPixMapPriorDist('data/GW170814_skymap.fits.gz')\n",
    "prior[\"ra\"] = bilby.gw.prior.HealPixPrior(hp_prior, 'ra')\n",
    "prior[\"dec\"] = bilby.gw.prior.HealPixPrior(hp_prior, 'dec')\n",
    "prior[\"geocent_time\"] = bilby.core.prior.Uniform(gps-0.1, gps+0.1, name=\"geocent_time\")\n",
    "\n",
    "waveform_arguments = dict(waveform_approximant='IMRPhenomPv2', reference_frequency=100., catch_waveform_errors=True)\n",
    "waveform_generator = bilby.gw.WaveformGenerator(\n",
    "    frequency_domain_source_model=bilby.gw.source.lal_binary_black_hole,\n",
    "    waveform_arguments=waveform_arguments,\n",
    "    parameter_conversion=convert_to_lal_binary_black_hole_parameters)\n",
    "\n",
    "likelihood = bilby.gw.likelihood.GravitationalWaveTransient(\n",
    "    interferometers, waveform_generator, priors=prior,\n",
    "    time_marginalization=True, phase_marginalization=False, distance_marginalization=True)\n",
    "\n",
    "result_short = bilby.run_sampler(\n",
    "    likelihood,\n",
    "    prior,\n",
    "    sampler='dynesty',\n",
    "    outdir='short_hp',\n",
    "    label='GW170814_hp_true',\n",
    "    nlive=100,\n",
    "    conversion_function=bilby.gw.conversion.generate_all_bbh_parameters\n",
    ")"
   ]
  },
  {
   "cell_type": "code",
   "execution_count": 15,
   "id": "f93de29d-a593-4ae7-b425-8c2a5e64d728",
   "metadata": {},
   "outputs": [
    {
     "data": {
      "image/png": "[encoded data removed]",
      "text/plain": [
       "<Figure size 432x288 with 1 Axes>"
      ]
     },
     "execution_count": 15,
     "metadata": {},
     "output_type": "execute_result"
    }
   ],
   "source": [
    "result_short.plot_corner(parameters=[\"luminosity_distance\"])"
   ]
  },
  {
   "cell_type": "code",
   "execution_count": 28,
   "id": "1c505517-25f6-4a4f-8021-dcc5a2a0c002",
   "metadata": {},
   "outputs": [
    {
     "name": "stderr",
     "output_type": "stream",
     "text": [
      "14:49 bilby INFO    : Waveform generator initiated with\n",
      "  frequency_domain_source_model: bilby.gw.source.lal_binary_black_hole\n",
      "  time_domain_source_model: None\n",
      "  parameter_conversion: bilby.gw.conversion.convert_to_lal_binary_black_hole_parameters\n",
      "14:49 bilby INFO    : Running for label 'GW170814_hp_basic', output will be saved to 'short_hp'\n",
      "14:49 bilby INFO    : Using lal version 7.1.7\n",
      "14:49 bilby INFO    : Using lal git version Branch: None;Tag: lal-v7.1.7;Id: c0930b69d9f2ad7151d1cadea5df72633ec47e67;;Builder: Adam Mercer <adam.mercer@ligo.org>;Repository status: CLEAN: All modifications committed\n",
      "14:49 bilby INFO    : Using lalsimulation version 3.1.2\n",
      "14:49 bilby INFO    : Using lalsimulation git version Branch: None;Tag: lalsimulation-v3.1.2;Id: 8c3a6977aa553c9a2019ec287a61dc5ee92087b4;;Builder: Adam Mercer <adam.mercer@ligo.org>;Repository status: CLEAN: All modifications committed\n",
      "14:49 bilby INFO    : Search parameters:\n",
      "14:49 bilby INFO    :   mass_ratio = Uniform(minimum=0.125, maximum=1, name='mass_ratio', latex_label='$q$', unit=None, boundary=None)\n",
      "14:49 bilby INFO    :   chirp_mass = Uniform(minimum=25, maximum=31, name='chirp_mass', latex_label='$\\\\mathcal{M}$', unit=None, boundary=None)\n",
      "14:49 bilby INFO    :   a_1 = Uniform(minimum=0, maximum=0.99, name='a_1', latex_label='$a_1$', unit=None, boundary=None)\n",
      "14:49 bilby INFO    :   a_2 = Uniform(minimum=0, maximum=0.99, name='a_2', latex_label='$a_2$', unit=None, boundary=None)\n",
      "14:49 bilby INFO    :   tilt_1 = Sine(minimum=0, maximum=3.141592653589793, name='tilt_1', latex_label='$\\\\theta_1$', unit=None, boundary='reflective')\n",
      "14:49 bilby INFO    :   tilt_2 = Sine(minimum=0, maximum=3.141592653589793, name='tilt_2', latex_label='$\\\\theta_2$', unit=None, boundary='reflective')\n",
      "14:49 bilby INFO    :   phi_12 = Uniform(minimum=0, maximum=6.283185307179586, name='phi_12', latex_label='$\\\\Delta\\\\phi$', unit=None, boundary='periodic')\n",
      "14:49 bilby INFO    :   phi_jl = Uniform(minimum=0, maximum=6.283185307179586, name='phi_jl', latex_label='$\\\\phi_{JL}$', unit=None, boundary='periodic')\n",
      "14:49 bilby INFO    :   luminosity_distance = PowerLaw(alpha=2, minimum=50, maximum=2000, name='luminosity_distance', latex_label='$d_L$', unit='Mpc', boundary=None)\n",
      "14:49 bilby INFO    :   theta_jn = Sine(minimum=0, maximum=3.141592653589793, name='theta_jn', latex_label='$\\\\theta_{JN}$', unit=None, boundary='reflective')\n",
      "14:49 bilby INFO    :   psi = Uniform(minimum=0, maximum=3.141592653589793, name='psi', latex_label='$\\\\psi$', unit=None, boundary='periodic')\n",
      "14:49 bilby INFO    :   phase = Uniform(minimum=0, maximum=6.283185307179586, name='phase', latex_label='$\\\\phi$', unit=None, boundary='periodic')\n",
      "14:49 bilby INFO    :   ra = HealPixPrior(dist=HealPixMapPriorDist(hp_file='data/hp_test_map.fits', names=['ra', 'dec'], bounds={'ra': (0, 6.283185307179586), 'dec': (-1.5707963267948966, 1.5707963267948966)}, distance=False), name='ra', latex_label='$\\\\mathrm{RA}$', unit=None)\n",
      "14:49 bilby INFO    :   dec = HealPixPrior(dist=HealPixMapPriorDist(hp_file='data/hp_test_map.fits', names=['ra', 'dec'], bounds={'ra': (0, 6.283185307179586), 'dec': (-1.5707963267948966, 1.5707963267948966)}, distance=False), name='dec', latex_label='$\\\\mathrm{DEC}$', unit=None)\n",
      "14:49 bilby INFO    :   geocent_time = Uniform(minimum=1186741861.4, maximum=1186741861.6, name='geocent_time', latex_label='$t_c$', unit=None, boundary=None)\n",
      "14:49 bilby INFO    : Single likelihood evaluation took 1.628e-01 s\n"
     ]
    },
    {
     "data": {
      "application/vnd.jupyter.widget-view+json": {
       "model_id": "7ab5cda0c7584a78bb8e3867927a2718",
       "version_major": 2,
       "version_minor": 0
      },
      "text/plain": [
       "0it [00:00, ?it/s]"
      ]
     },
     "metadata": {},
     "output_type": "display_data"
    },
    {
     "name": "stderr",
     "output_type": "stream",
     "text": [
      "14:49 bilby INFO    : Using sampler Dynesty with kwargs {'bound': 'multi', 'sample': 'rwalk', 'verbose': True, 'periodic': None, 'reflective': None, 'check_point_delta_t': 1800, 'nlive': 100, 'first_update': None, 'walks': 100, 'npdim': None, 'rstate': None, 'queue_size': 1, 'pool': None, 'use_pool': None, 'live_points': None, 'logl_args': None, 'logl_kwargs': None, 'ptform_args': None, 'ptform_kwargs': None, 'enlarge': 1.5, 'bootstrap': None, 'vol_dec': 0.5, 'vol_check': 8.0, 'facc': 0.2, 'slices': 5, 'update_interval': 60, 'print_func': <bound method Dynesty._print_func of <bilby.core.sampler.dynesty.Dynesty object at 0x7fb2f4dd2fa0>>, 'dlogz': 0.1, 'maxiter': None, 'maxcall': None, 'logl_max': inf, 'add_live': True, 'print_progress': True, 'save_bounds': False, 'n_effective': None, 'maxmcmc': 5000, 'nact': 5, 'print_method': 'tqdm'}\n",
      "14:49 bilby INFO    : Checkpoint every check_point_delta_t = 600s\n",
      "14:49 bilby INFO    : Using dynesty version 1.0.1\n",
      "14:49 bilby INFO    : Using the bilby-implemented rwalk sample method with ACT estimated walks\n",
      "14:49 bilby INFO    : Resume file short_hp/GW170814_hp_basic_resume.pickle does not exist.\n",
      "14:49 bilby INFO    : Generating initial points from the prior\n",
      "/home/imcmahon/miniconda3/envs/igwn-py39/lib/python3.9/site-packages/dynesty/dynesty.py:373: UserWarning: A note of caution: having `nlive < ndim * (ndim + 1) // 2` may result in unconstrained bounding distributions.\n",
      "  warnings.warn(\"A note of caution: \"\n",
      "15:00 bilby INFO    : Written checkpoint file short_hp/GW170814_hp_basic_resume.pickle\n",
      "15:07 bilby INFO    : Written checkpoint file short_hp/GW170814_hp_basic_resume.pickle\n",
      "15:07 bilby INFO    : Sampling time: 0:17:51.959115\n"
     ]
    },
    {
     "name": "stdout",
     "output_type": "stream",
     "text": [
      "\n"
     ]
    },
    {
     "name": "stderr",
     "output_type": "stream",
     "text": [
      "15:07 bilby INFO    : Summary of results:\n",
      "nsamples: 2452\n",
      "ln_noise_evidence: -26241.281\n",
      "ln_evidence: -26098.702 +/-  0.612\n",
      "ln_bayes_factor: 142.579 +/-  0.612\n",
      "\n"
     ]
    }
   ],
   "source": [
    "prior = bilby.core.prior.PriorDict()\n",
    "\n",
    "prior[\"mass_ratio\"] = bilby.core.prior.Uniform(name='mass_ratio', minimum=0.125, maximum=1)\n",
    "prior[\"chirp_mass\"] = bilby.core.prior.Uniform(name='chirp_mass', minimum=25, maximum=31)\n",
    "prior[\"a_1\"] = bilby.core.prior.Uniform(name='a_1', minimum=0, maximum=0.99)\n",
    "prior[\"a_2\"] = bilby.core.prior.Uniform(name='a_2', minimum=0, maximum=0.99)\n",
    "prior[\"tilt_1\"] = bilby.core.prior.Sine(name='tilt_1', boundary='reflective')\n",
    "prior[\"tilt_2\"] = bilby.core.prior.Sine(name='tilt_2', boundary='reflective')\n",
    "prior[\"phi_12\"] = bilby.core.prior.Uniform(name='phi_12', minimum=0, maximum=2 * np.pi, boundary='periodic')\n",
    "prior[\"phi_jl\"] = bilby.core.prior.Uniform(name='phi_jl', minimum=0, maximum=2 * np.pi, boundary='periodic')\n",
    "prior[\"luminosity_distance\"] = bilby.core.prior.PowerLaw(alpha=2, name='luminosity_distance', minimum=50, maximum=2000, unit='Mpc', latex_label='$d_L$')\n",
    "prior[\"theta_jn\"] = bilby.core.prior.Sine(name='theta_jn', boundary='reflective')\n",
    "prior[\"psi\"] = bilby.core.prior.Uniform(name='psi', minimum=0, maximum=np.pi, boundary='periodic')\n",
    "prior[\"phase\"] = bilby.core.prior.Uniform(name='phase', minimum=0, maximum=2 * np.pi, boundary='periodic')\n",
    "hp_prior = bilby.gw.prior.HealPixMapPriorDist('data/hp_test_map.fits')\n",
    "prior[\"ra\"] = bilby.gw.prior.HealPixPrior(hp_prior, 'ra')\n",
    "prior[\"dec\"] = bilby.gw.prior.HealPixPrior(hp_prior, 'dec')\n",
    "prior[\"geocent_time\"] = bilby.core.prior.Uniform(gps-0.1, gps+0.1, name=\"geocent_time\")\n",
    "\n",
    "waveform_arguments = dict(waveform_approximant='IMRPhenomPv2', reference_frequency=50., catch_waveform_errors=True)\n",
    "waveform_generator = bilby.gw.WaveformGenerator(\n",
    "    duration=duration,\n",
    "    sampling_frequency=sampling_rate,\n",
    "    frequency_domain_source_model=bilby.gw.source.lal_binary_black_hole,\n",
    "    waveform_arguments=waveform_arguments,\n",
    "    parameter_conversion=convert_to_lal_binary_black_hole_parameters)\n",
    "\n",
    "likelihood = bilby.gw.likelihood.GravitationalWaveTransient(interferometers, waveform_generator)\n",
    "\n",
    "result_short = bilby.run_sampler(\n",
    "    likelihood,\n",
    "    prior,\n",
    "    sampler='dynesty',\n",
    "    outdir='short_hp',\n",
    "    label='GW170814_hp_basic',\n",
    "    nlive=100\n",
    ")"
   ]
  },
  {
   "cell_type": "code",
   "execution_count": 29,
   "id": "1b3354c0-265b-4963-851b-627e7a153f52",
   "metadata": {},
   "outputs": [
    {
     "data": {
      "image/png": "[encoded data removed]",
      "text/plain": [
       "<Figure size 432x288 with 1 Axes>"
      ]
     },
     "execution_count": 29,
     "metadata": {},
     "output_type": "execute_result"
    }
   ],
   "source": [
    "result_short.plot_corner(parameters=[\"luminosity_distance\"])"
   ]
  },
  {
   "cell_type": "markdown",
   "id": "cde7ace0-7bcb-4f28-9688-7fabd3560a19",
   "metadata": {},
   "source": [
    "Idea: Assuming that this H0 analysis will be done on BBH mergers that have already been parameterized, we will have the parameters to plug in as delta function priors. This should theoretically greatly reduce our calculation time. It would be better if we could adjust BAYESTAR for this use because it runs orders of magnitudes faster and directly works only with localization.\n",
    "\n",
    "This cuts down the runtime from ~1-2 hours to ~20 mins, but delta function priors significantly changed the distance posterior. Will try to use the full published GW170814 posteriors as priors.\n",
    "\n",
    "I think the ideal setup is a BAYESTAR-like MCMC that takes a 3d galaxy density prior and then spits out a similar posterior. The current HEALPix setup only has a single-mode gaussian distribution for the distance distribution at each pixel. The BAYESTAR paper suggests that all that is needed for localization is the times, amplitudes, and phases of the signals at each ifo.\n",
    "\n",
    "BAYESTAR: signal --> localization 3d healpix (5 min) <br>\n",
    "lalinference: signal --> all parameters + 3d healpix (100h) <br>\n",
    "bilby: signal + healpix prior --> all parameters (2h) <br>"
   ]
  },
  {
   "cell_type": "code",
   "execution_count": 22,
   "id": "b92768d1-94f2-4734-b069-b864d139748b",
   "metadata": {},
   "outputs": [
    {
     "name": "stderr",
     "output_type": "stream",
     "text": [
      "WARNING: AstropyDeprecationWarning: \"verbose\" was deprecated in version 1.15.0 and will be removed in a future version.  [bilby.gw.prior]\n",
      "13:29 bilby INFO    : Waveform generator initiated with\n",
      "  frequency_domain_source_model: bilby.gw.source.lal_binary_black_hole\n",
      "  time_domain_source_model: None\n",
      "  parameter_conversion: bilby.gw.conversion.convert_to_lal_binary_black_hole_parameters\n",
      "13:29 bilby INFO    : Loaded distance marginalisation lookup table from .distance_marginalization_lookup.npz.\n",
      "13:29 bilby INFO    : Running for label 'GW170814_hp_inject', output will be saved to 'short_hp'\n",
      "13:29 bilby INFO    : Using lal version 7.1.7\n",
      "13:29 bilby INFO    : Using lal git version Branch: None;Tag: lal-v7.1.7;Id: c0930b69d9f2ad7151d1cadea5df72633ec47e67;;Builder: Adam Mercer <adam.mercer@ligo.org>;Repository status: CLEAN: All modifications committed\n",
      "13:29 bilby INFO    : Using lalsimulation version 3.1.2\n",
      "13:29 bilby INFO    : Using lalsimulation git version Branch: None;Tag: lalsimulation-v3.1.2;Id: 8c3a6977aa553c9a2019ec287a61dc5ee92087b4;;Builder: Adam Mercer <adam.mercer@ligo.org>;Repository status: CLEAN: All modifications committed\n",
      "13:29 bilby INFO    : Search parameters:\n",
      "13:29 bilby INFO    :   psi = Uniform(minimum=0, maximum=3.141592653589793, name='psi', latex_label='$\\\\psi$', unit=None, boundary='periodic')\n",
      "13:29 bilby INFO    :   phase = Uniform(minimum=0, maximum=6.283185307179586, name='phase', latex_label='$\\\\phi$', unit=None, boundary='periodic')\n",
      "13:29 bilby INFO    :   ra = HealPixPrior(dist=HealPixMapPriorDist(hp_file='data/hp_test_map.fits', names=['ra', 'dec'], bounds={'ra': (0, 6.283185307179586), 'dec': (-1.5707963267948966, 1.5707963267948966)}, distance=False), name='ra', latex_label='$\\\\mathrm{RA}$', unit=None)\n",
      "13:29 bilby INFO    :   dec = HealPixPrior(dist=HealPixMapPriorDist(hp_file='data/hp_test_map.fits', names=['ra', 'dec'], bounds={'ra': (0, 6.283185307179586), 'dec': (-1.5707963267948966, 1.5707963267948966)}, distance=False), name='dec', latex_label='$\\\\mathrm{DEC}$', unit=None)\n",
      "13:29 bilby INFO    :   time_jitter = Uniform(minimum=-0.000244140625, maximum=0.000244140625, name='time_jitter', latex_label='$t_j$', unit=None, boundary='periodic')\n",
      "13:29 bilby INFO    :   mass_ratio = 1.214\n",
      "13:29 bilby INFO    :   chirp_mass = 24.1\n",
      "13:29 bilby INFO    :   a_1 = 0.4\n",
      "13:29 bilby INFO    :   a_2 = 0.4\n",
      "13:29 bilby INFO    :   tilt_1 = 0.22876\n",
      "13:29 bilby INFO    :   tilt_2 = 0.13858\n",
      "13:29 bilby INFO    :   phi_12 = 0.0\n",
      "13:29 bilby INFO    :   phi_jl = 0.0\n",
      "13:29 bilby INFO    :   luminosity_distance = 1587.4093196389506\n",
      "13:29 bilby INFO    :   theta_jn = 1.0\n",
      "13:29 bilby INFO    :   geocent_time = 1186741859.5\n",
      "13:29 bilby INFO    : Single likelihood evaluation took 1.599e-01 s\n"
     ]
    },
    {
     "data": {
      "application/vnd.jupyter.widget-view+json": {
       "model_id": "ce6b53a567944cc4bdf091ff01fa428f",
       "version_major": 2,
       "version_minor": 0
      },
      "text/plain": [
       "0it [00:00, ?it/s]"
      ]
     },
     "metadata": {},
     "output_type": "display_data"
    },
    {
     "name": "stderr",
     "output_type": "stream",
     "text": [
      "13:29 bilby INFO    : Using sampler Dynesty with kwargs {'bound': 'multi', 'sample': 'rwalk', 'verbose': True, 'periodic': None, 'reflective': None, 'check_point_delta_t': 1800, 'nlive': 100, 'first_update': None, 'walks': 100, 'npdim': None, 'rstate': None, 'queue_size': 1, 'pool': None, 'use_pool': None, 'live_points': None, 'logl_args': None, 'logl_kwargs': None, 'ptform_args': None, 'ptform_kwargs': None, 'enlarge': 1.5, 'bootstrap': None, 'vol_dec': 0.5, 'vol_check': 8.0, 'facc': 0.2, 'slices': 5, 'update_interval': 60, 'print_func': <bound method Dynesty._print_func of <bilby.core.sampler.dynesty.Dynesty object at 0x7fb305d9da00>>, 'dlogz': 0.1, 'maxiter': None, 'maxcall': None, 'logl_max': inf, 'add_live': True, 'print_progress': True, 'save_bounds': False, 'n_effective': None, 'maxmcmc': 5000, 'nact': 5, 'print_method': 'tqdm'}\n",
      "13:29 bilby INFO    : Checkpoint every check_point_delta_t = 600s\n",
      "13:29 bilby INFO    : Using dynesty version 1.0.1\n",
      "13:29 bilby INFO    : Using the bilby-implemented rwalk sample method with ACT estimated walks\n",
      "13:29 bilby INFO    : Resume file short_hp/GW170814_hp_inject_resume.pickle does not exist.\n",
      "13:29 bilby INFO    : Generating initial points from the prior\n",
      "13:40 bilby INFO    : Written checkpoint file short_hp/GW170814_hp_inject_resume.pickle\n",
      "13:40 bilby INFO    : Written checkpoint file short_hp/GW170814_hp_inject_resume.pickle\n",
      "13:40 bilby INFO    : Sampling time: 0:10:15.715004\n",
      "13:40 bilby INFO    : Reconstructing marginalised parameters.\n",
      "13:40 bilby INFO    : Cached samples dict out of date, ignoring\n"
     ]
    },
    {
     "name": "stdout",
     "output_type": "stream",
     "text": [
      "\n"
     ]
    },
    {
     "data": {
      "application/vnd.jupyter.widget-view+json": {
       "model_id": "293fa3da929d4851b77767921f9adba1",
       "version_major": 2,
       "version_minor": 0
      },
      "text/plain": [
       "  0%|          | 0/815 [00:00<?, ?it/s]"
      ]
     },
     "metadata": {},
     "output_type": "display_data"
    },
    {
     "name": "stderr",
     "output_type": "stream",
     "text": [
      "13:40 bilby INFO    : Generating sky frame parameters.\n"
     ]
    },
    {
     "data": {
      "application/vnd.jupyter.widget-view+json": {
       "model_id": "27a86c061f124a25990ebe52c725751c",
       "version_major": 2,
       "version_minor": 0
      },
      "text/plain": [
       "  0%|          | 0/815 [00:00<?, ?it/s]"
      ]
     },
     "metadata": {},
     "output_type": "display_data"
    },
    {
     "name": "stderr",
     "output_type": "stream",
     "text": [
      "13:40 bilby INFO    : Computing SNRs for every sample.\n"
     ]
    },
    {
     "data": {
      "application/vnd.jupyter.widget-view+json": {
       "model_id": "a724f63bbd964f849d977c5a695190f9",
       "version_major": 2,
       "version_minor": 0
      },
      "text/plain": [
       "  0%|          | 0/815 [00:00<?, ?it/s]"
      ]
     },
     "metadata": {},
     "output_type": "display_data"
    },
    {
     "name": "stderr",
     "output_type": "stream",
     "text": [
      "13:40 bilby INFO    : Summary of results:\n",
      "nsamples: 815\n",
      "ln_noise_evidence: -26241.281\n",
      "ln_evidence: -26209.867 +/-  0.242\n",
      "ln_bayes_factor: 31.413 +/-  0.242\n",
      "\n"
     ]
    }
   ],
   "source": [
    "prior = bilby.core.prior.PriorDict()\n",
    "\n",
    "prior[\"mass_ratio\"] = 1.214\n",
    "prior[\"chirp_mass\"] = 24.1\n",
    "prior[\"a_1\"] = 0.4\n",
    "prior[\"a_2\"] = 0.4\n",
    "prior[\"tilt_1\"] = 0.22876\n",
    "prior[\"tilt_2\"] = 0.13858\n",
    "prior[\"phi_12\"] = 0.0\n",
    "prior[\"phi_jl\"] = 0.0\n",
    "prior[\"luminosity_distance\"] = bilby.core.prior.PowerLaw(alpha=2, name='luminosity_distance', minimum=50, maximum=2000, unit='Mpc', latex_label='$d_L$')\n",
    "prior[\"theta_jn\"] = 1.0\n",
    "prior[\"psi\"] = bilby.core.prior.Uniform(name='psi', minimum=0, maximum=np.pi, boundary='periodic')\n",
    "prior[\"phase\"] = bilby.core.prior.Uniform(name='phase', minimum=0, maximum=2 * np.pi, boundary='periodic')\n",
    "hp_prior = bilby.gw.prior.HealPixMapPriorDist('data/hp_test_map.fits')\n",
    "prior[\"ra\"] = bilby.gw.prior.HealPixPrior(hp_prior, 'ra')\n",
    "prior[\"dec\"] = bilby.gw.prior.HealPixPrior(hp_prior, 'dec')\n",
    "prior[\"geocent_time\"] = bilby.core.prior.Uniform(gps-0.1, gps+0.1, name=\"geocent_time\")\n",
    "\n",
    "waveform_arguments = dict(waveform_approximant='IMRPhenomPv2', reference_frequency=100., catch_waveform_errors=True)\n",
    "waveform_generator = bilby.gw.WaveformGenerator(\n",
    "    frequency_domain_source_model=bilby.gw.source.lal_binary_black_hole,\n",
    "    waveform_arguments=waveform_arguments,\n",
    "    parameter_conversion=convert_to_lal_binary_black_hole_parameters)\n",
    "\n",
    "likelihood = bilby.gw.likelihood.GravitationalWaveTransient(\n",
    "    interferometers, waveform_generator, priors=prior,\n",
    "    time_marginalization=True, phase_marginalization=False, distance_marginalization=True)\n",
    "\n",
    "result_short = bilby.run_sampler(\n",
    "    likelihood,\n",
    "    prior,\n",
    "    sampler='dynesty',\n",
    "    outdir='short_hp',\n",
    "    label='GW170814_hp_inject',\n",
    "    nlive=100,\n",
    "    conversion_function=bilby.gw.conversion.generate_all_bbh_parameters\n",
    ")"
   ]
  },
  {
   "cell_type": "code",
   "execution_count": 23,
   "id": "47344523-5e7a-4705-af70-0f0e9fa24549",
   "metadata": {},
   "outputs": [
    {
     "data": {
      "image/png": "[encoded data removed]",
      "text/plain": [
       "<Figure size 432x288 with 1 Axes>"
      ]
     },
     "execution_count": 23,
     "metadata": {},
     "output_type": "execute_result"
    }
   ],
   "source": [
    "result_short.plot_corner(parameters=[\"luminosity_distance\"])"
   ]
  },
  {
   "cell_type": "markdown",
   "id": "5acb6904-839a-4560-9dca-4a909faa73ac",
   "metadata": {},
   "source": [
    "Now the idea is to use the published posteriors as priors for bilby. I made a gaussian KDE prior that should plug into bilby, and I'll estimate the posteriors with KDEs and plug them in as priors. (THIS DOES NOT WORK)\n",
    "\n",
    "This method loses higher order correlations, so maybe I need to do a multivariate KDE and somehow code that in? I'll need to check how bilby handles Joint priors if I think that's worthwhile.\n",
    "\n",
    "It may be more useful to try to replicate what BAYESTAR does in bilby, just use the time/phase/power information from each ifo to estimate the localization instead of doing all 15 parameters. This would involve moving away from bilby's built-in BBH estimators and basically going off on my own. The likelihoods need to be tweaked in that case."
   ]
  },
  {
   "cell_type": "code",
   "execution_count": 12,
   "id": "b6e8355f-9ca6-48f8-bfc4-626a2d66d786",
   "metadata": {},
   "outputs": [],
   "source": [
    "from scipy.special import ndtr\n",
    "from scipy.interpolate import interp1d\n",
    "from scipy.stats import gaussian_kde\n",
    "import h5py\n",
    "import matplotlib.pyplot as plt\n",
    "\n",
    "BBH = h5py.File('data/GW170814_GWTC-1.hdf5', 'r')\n",
    "\n",
    "class KDEPrior(bilby.core.prior.base.Prior):\n",
    "\n",
    "    def __init__(self, kde, name=None, latex_label=None, unit=None, boundary=None):\n",
    "        super(KDEPrior, self).__init__(name=name,\n",
    "                                       latex_label=latex_label,\n",
    "                                       unit=unit,\n",
    "                                       boundary=boundary,\n",
    "                                       minimum=np.min(kde.dataset),\n",
    "                                       maximum=np.max(kde.dataset)\n",
    "                                      )\n",
    "        self.kde = kde\n",
    "    \n",
    "    def cdf(self, val):\n",
    "        try:\n",
    "            cdf = np.array(tuple((kde.integrate_box_1d(self.minimum, item) for item in val)))\n",
    "        except KeyError:\n",
    "            cdf = kde.integrate_box_1d(self.minimum, val)\n",
    "        return cdf\n",
    "\n",
    "    def rescale(self, val):\n",
    "        bound = np.linspace(self.minimum, self.maximum, 1000)\n",
    "        f = interp1d(self.cdf(bound), bound, kind='linear', bounds_error=False)\n",
    "        return f(val)\n",
    "\n",
    "    def prob(self, val):\n",
    "        return kde.pdf(val)\n",
    "\n",
    "    def ln_prob(self, val):\n",
    "        return kde.logpdf(val)"
   ]
  },
  {
   "cell_type": "code",
   "execution_count": 13,
   "id": "b8140a45-dff8-482c-bd7b-b472a23befce",
   "metadata": {},
   "outputs": [
    {
     "name": "stdout",
     "output_type": "stream",
     "text": [
      "right_ascension = 0.81575316 with a 90% C.I = 0.7091771587066191 -> 0.856305764\n"
     ]
    },
    {
     "data": {
      "image/png": "[encoded data removed]",
      "text/plain": [
       "<Figure size 1728x288 with 4 Axes>"
      ]
     },
     "metadata": {
      "needs_background": "light"
     },
     "output_type": "display_data"
    }
   ],
   "source": [
    "para = 'right_ascension'\n",
    "post = BBH['Overall_posterior'][para]\n",
    "\n",
    "lower_bound = np.quantile(post, 0.1)\n",
    "upper_bound = np.quantile(post, 0.9)\n",
    "median = np.quantile(post, 0.5)\n",
    "print(para +\" = {} with a 90% C.I = {} -> {}\".format(median, lower_bound, upper_bound))\n",
    "\n",
    "kde = gaussian_kde(post)\n",
    "kde_prior = KDEPrior(kde)\n",
    "x = np.linspace(kde_prior.minimum, kde_prior.maximum, 1000)\n",
    "y = np.linspace(0, 1, 1000)\n",
    "kde_pdf = kde_prior.prob(x)\n",
    "kde_cdf = kde_prior.cdf(x)\n",
    "kde_icdf = kde_prior.rescale(y)\n",
    "\n",
    "fig, ax = plt.subplots(1, 4, figsize=(24, 4))\n",
    "ax[0].hist(post, bins=100)\n",
    "ax[0].axvspan(lower_bound, upper_bound, color='C1', alpha=0.2)\n",
    "ax[0].axvline(median, color='C1')\n",
    "ax[0].set_title('Posterior')\n",
    "ax[0].set_xlabel(para)\n",
    "ax[0].set_ylabel('Posterior Estimates')\n",
    "ax[1].plot(x, kde_pdf, c='r')\n",
    "ax[1].set_title('KDE Estimate')\n",
    "ax[1].set_xlabel(para)\n",
    "ax[1].set_ylabel('PDF')\n",
    "ax[2].plot(x, kde_cdf, c='r')\n",
    "ax[2].set_title('KDE CDF')\n",
    "ax[2].set_xlabel(para)\n",
    "ax[2].set_ylabel('CDF')\n",
    "ax[3].plot(y, kde_icdf, c='r')\n",
    "ax[3].set_title('KDE ICDF')\n",
    "plt.show()"
   ]
  },
  {
   "cell_type": "code",
   "execution_count": null,
   "id": "c381a5b6-377d-4dd1-8752-48f2dd9c6dd9",
   "metadata": {},
   "outputs": [],
   "source": [
    "prior = bilby.core.prior.PriorDict()\n",
    "\n",
    "prior[\"mass_1\"] = KDEPrior(gaussian_kde(BBH['Overall_posterior']['m1_detector_frame_Msun']))\n",
    "prior[\"mass_2\"] = KDEPrior(gaussian_kde(BBH['Overall_posterior']['m2_detector_frame_Msun']))\n",
    "prior[\"a_1\"] = KDEPrior(gaussian_kde(BBH['Overall_posterior']['spin1']))\n",
    "prior[\"a_2\"] = KDEPrior(gaussian_kde(BBH['Overall_posterior']['spin2']))\n",
    "prior[\"tilt_1\"] = KDEPrior(gaussian_kde(BBH['Overall_posterior']['costilt1']))\n",
    "prior[\"tilt_2\"] = KDEPrior(gaussian_kde(BBH['Overall_posterior']['costilt2']))\n",
    "prior[\"phi_12\"] = bilby.core.prior.Uniform(name='phi_12', minimum=0, maximum=2 * np.pi, boundary='periodic')\n",
    "prior[\"phi_jl\"] = bilby.core.prior.Uniform(name='phi_jl', minimum=0, maximum=2 * np.pi, boundary='periodic')\n",
    "prior[\"luminosity_distance\"] = bilby.core.prior.PowerLaw(alpha=2, name='luminosity_distance', minimum=50, maximum=2000, unit='Mpc', latex_label='$d_L$')\n",
    "prior[\"theta_jn\"] = KDEPrior(gaussian_kde(BBH['Overall_posterior']['costheta_jn']))\n",
    "prior[\"psi\"] = bilby.core.prior.Uniform(name='psi', minimum=0, maximum=np.pi, boundary='periodic')\n",
    "prior[\"phase\"] = bilby.core.prior.Uniform(name='phase', minimum=0, maximum=2 * np.pi, boundary='periodic')\n",
    "hp_prior = bilby.gw.prior.HealPixMapPriorDist('data/hp_test_map.fits')\n",
    "prior[\"ra\"] = bilby.gw.prior.HealPixPrior(hp_prior, 'ra')\n",
    "prior[\"dec\"] = bilby.gw.prior.HealPixPrior(hp_prior, 'dec')\n",
    "prior[\"geocent_time\"] = bilby.core.prior.Uniform(gps-0.1, gps+0.1, name=\"geocent_time\")\n",
    "\n",
    "waveform_arguments = dict(waveform_approximant='IMRPhenomPv2', reference_frequency=100., catch_waveform_errors=True)\n",
    "waveform_generator = bilby.gw.WaveformGenerator(\n",
    "    frequency_domain_source_model=bilby.gw.source.lal_binary_black_hole,\n",
    "    waveform_arguments=waveform_arguments,\n",
    "    parameter_conversion=convert_to_lal_binary_black_hole_parameters)\n",
    "\n",
    "likelihood = bilby.gw.likelihood.GravitationalWaveTransient(\n",
    "    interferometers, waveform_generator, priors=prior,\n",
    "    time_marginalization=True, phase_marginalization=False, distance_marginalization=True)\n",
    "\n",
    "result_short = bilby.run_sampler(\n",
    "    likelihood,\n",
    "    prior,\n",
    "    sampler='dynesty',\n",
    "    outdir='short_hp',\n",
    "    label='GW170814_hp_kde',\n",
    "    nlive=100,\n",
    "    conversion_function=bilby.gw.conversion.generate_all_bbh_parameters\n",
    ")"
   ]
  },
  {
   "cell_type": "code",
   "execution_count": null,
   "id": "c738dd23-b928-4d58-90c2-f743b3b05134",
   "metadata": {},
   "outputs": [],
   "source": []
  }
 ],
 "metadata": {
  "kernelspec": {
   "display_name": "Python (igwn-py39)",
   "language": "python",
   "name": "igwn-py39"
  },
  "language_info": {
   "codemirror_mode": {
    "name": "ipython",
    "version": 3
   },
   "file_extension": ".py",
   "mimetype": "text/x-python",
   "name": "python",
   "nbconvert_exporter": "python",
   "pygments_lexer": "ipython3",
   "version": "3.9.12"
  }
 },
 "nbformat": 4,
 "nbformat_minor": 5
}
