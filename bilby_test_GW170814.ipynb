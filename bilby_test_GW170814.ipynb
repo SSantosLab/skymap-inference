{
 "cells": [
  {
   "cell_type": "code",
   "execution_count": null,
   "id": "f60da085-2a25-4ac9-884f-28d45a9d1805",
   "metadata": {},
   "outputs": [],
   "source": [
    "import pylab\n",
    "from gwosc.datasets import event_gps\n",
    "from gwpy.timeseries import TimeSeries as TS\n",
    "import bilby\n",
    "from bilby.gw.conversion import convert_to_lal_binary_black_hole_parameters, generate_all_bbh_parameters\n",
    "%matplotlib inline\n",
    "\n",
    "merger = \"GW170814\"\n",
    "gps = float(event_gps(merger))\n",
    "\n",
    "print(bilby.__version__)"
   ]
  },
  {
   "cell_type": "code",
   "execution_count": null,
   "id": "de2f1893-a692-4683-80bb-9db01b338686",
   "metadata": {},
   "outputs": [],
   "source": [
    "sampling_rate = 4096\n",
    "duration = 4. # length of data in seconds\n",
    "start_time = gps-duration/2"
   ]
  },
  {
   "cell_type": "markdown",
   "id": "6323a69d-b2fb-4c97-b965-66e4fce4a936",
   "metadata": {},
   "source": [
    "<h3>Gathering open data from GWOSC</h3>"
   ]
  },
  {
   "cell_type": "code",
   "execution_count": null,
   "id": "06d9b9b4-3fc5-4ccf-8da2-ccb4f3a6d0c5",
   "metadata": {},
   "outputs": [],
   "source": [
    "strain_dict = dict(L1=TS.fetch_open_data('L1', start_time, start_time+duration, sample_rate=4096),\n",
    "                   H1=TS.fetch_open_data('H1', start_time, start_time+duration, sample_rate=4096),\n",
    "                   V1=TS.fetch_open_data('V1', start_time, start_time+duration, sample_rate=4096)\n",
    "                  )\n",
    "\n",
    "psd_dict = dict(L1=TS.fetch_open_data('L1', gps-512, gps-384, sample_rate=4096),\n",
    "                H1=TS.fetch_open_data('H1', gps-512, gps-384, sample_rate=4096),\n",
    "                V1=TS.fetch_open_data('V1', gps-512, gps-384, sample_rate=4096)\n",
    "               )"
   ]
  },
  {
   "cell_type": "markdown",
   "id": "6aef23bc-e76f-4096-9a53-9b33e385120f",
   "metadata": {},
   "source": [
    "<h3>Initializing interferometers with strain data</h3>"
   ]
  },
  {
   "cell_type": "code",
   "execution_count": null,
   "id": "a37e6995-9d86-498a-8784-b7dea6b548b1",
   "metadata": {},
   "outputs": [],
   "source": [
    "interferometers = bilby.gw.detector.InterferometerList([])\n",
    "ifo_names = ['L1', 'H1', 'V1']\n",
    "\n",
    "for ifo_name in ifo_names:\n",
    "    ifo = bilby.gw.detector.get_empty_interferometer(ifo_name)\n",
    "    ifo.set_strain_data_from_gwpy_timeseries(strain_dict[ifo_name])\n",
    "    ifo.maximum_frequency = 2048\n",
    "    interferometers.append(ifo)"
   ]
  },
  {
   "cell_type": "markdown",
   "id": "9fc7bced-6743-4bf5-87e2-35898b2003b4",
   "metadata": {},
   "source": [
    "<h3>Setting PSD for each ifo using noise from near the event</h3>"
   ]
  },
  {
   "cell_type": "code",
   "execution_count": null,
   "id": "a9505241-f56b-4b44-891e-f5b13d7bb52d",
   "metadata": {},
   "outputs": [],
   "source": [
    "psd_alpha = 2 * interferometers[0].strain_data.roll_off / 4\n",
    "\n",
    "for i in range(len(ifo_names)):\n",
    "    psd_dict[ifo_names[i]] = psd_dict[ifo_name].psd(fftlength=4, overlap=0, window=(\"tukey\", psd_alpha), method=\"median\")\n",
    "    interferometers[i].power_spectral_density = bilby.gw.detector.PowerSpectralDensity(frequency_array=psd_dict[ifo_names[i]].frequencies.value,\n",
    "                                                                                       psd_array=psd_dict[ifo_names[i]].value\n",
    "                                                                                      )"
   ]
  },
  {
   "cell_type": "markdown",
   "id": "9d3ffda1-7fcc-4bfc-a17e-7f3d30bae4b1",
   "metadata": {},
   "source": [
    "<h3>Prior/Likelihood</h3>"
   ]
  },
  {
   "cell_type": "code",
   "execution_count": null,
   "id": "6c8d5d45-07ee-42d8-93c7-b09bf5bea705",
   "metadata": {},
   "outputs": [],
   "source": [
    "prior = bilby.gw.prior.BBHPriorDict()\n",
    "\n",
    "names = ['ra', 'dec']\n",
    "mu = [[0.79, -0.83]]\n",
    "cov = [[[0.03, 0.], [0., 0.04]]]\n",
    "mvg = bilby.core.prior.MultivariateGaussianDist(names, mus=mu, covs=cov)\n",
    "\n",
    "prior[\"ra\"] = bilby.core.prior.MultivariateGaussian(mvg, 'ra')\n",
    "prior[\"dec\"] = bilby.core.prior.MultivariateGaussian(mvg, 'dec')\n",
    "prior[\"geocent_time\"] = bilby.core.prior.Uniform(gps-0.1, gps+0.1, name=\"geocent_time\")\n",
    "\n",
    "waveform_arguments = dict(waveform_approximant='IMRPhenomPv2', reference_frequency=100., catch_waveform_errors=True)\n",
    "waveform_generator = bilby.gw.WaveformGenerator(\n",
    "    frequency_domain_source_model=bilby.gw.source.lal_binary_black_hole,\n",
    "    waveform_arguments=waveform_arguments,\n",
    "    parameter_conversion=convert_to_lal_binary_black_hole_parameters)\n",
    "\n",
    "likelihood = bilby.gw.likelihood.GravitationalWaveTransient(\n",
    "    interferometers, waveform_generator, priors=prior,\n",
    "    time_marginalization=True, phase_marginalization=True, distance_marginalization=False)"
   ]
  },
  {
   "cell_type": "code",
   "execution_count": null,
   "id": "cfa07e93-0d61-4d27-91b0-6008ae21b8c6",
   "metadata": {},
   "outputs": [],
   "source": [
    "result_short = bilby.run_sampler(\n",
    "    likelihood,\n",
    "    prior,\n",
    "    sampler='dynesty',\n",
    "    outdir='short',\n",
    "    label='GW170814_sharp',\n",
    "    nlive=1000,\n",
    "    conversion_function=bilby.gw.conversion.generate_all_bbh_parameters\n",
    ")"
   ]
  },
  {
   "cell_type": "code",
   "execution_count": null,
   "id": "34c6beec-89b1-4f87-b9d8-fb0cb9663341",
   "metadata": {},
   "outputs": [],
   "source": [
    "result_short.plot_corner(parameters=[\"mass_1\", \"mass_2\"])"
   ]
  }
 ],
 "metadata": {
  "kernelspec": {
   "display_name": "Python (igwn-py39)",
   "language": "python",
   "name": "igwn-py39"
  },
  "language_info": {
   "codemirror_mode": {
    "name": "ipython",
    "version": 3
   },
   "file_extension": ".py",
   "mimetype": "text/x-python",
   "name": "python",
   "nbconvert_exporter": "python",
   "pygments_lexer": "ipython3",
   "version": "3.9.12"
  }
 },
 "nbformat": 4,
 "nbformat_minor": 5
}
