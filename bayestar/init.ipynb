{
 "cells": [
  {
   "cell_type": "code",
   "execution_count": 1,
   "id": "9fdcb12b-342f-4e7d-af4c-5ed1e47dfdb3",
   "metadata": {
    "tags": []
   },
   "outputs": [],
   "source": [
    "import pandas as pd\n",
    "import numpy as np\n",
    "from astropy.cosmology import FlatLambdaCDM\n",
    "import matplotlib.pyplot as plt\n",
    "\n",
    "cosmo = FlatLambdaCDM(H0=67.9, Om0=0.3065)"
   ]
  },
  {
   "cell_type": "code",
   "execution_count": 2,
   "id": "936819f2-0ed3-4b13-9201-54ad9be1f08b",
   "metadata": {
    "tags": []
   },
   "outputs": [],
   "source": [
    "def deg2hms(deg):\n",
    "    return '+{}:{:05.2f}'.format(int(deg/15), ((deg/15)-int(deg/15))*60)\n",
    "\n",
    "def deg2dms(deg):\n",
    "    sign = '+'\n",
    "    if deg < 0: sign = '-'\n",
    "    return '{}{}:{:05.2f}'.format(sign, abs(int(deg)), abs((deg-int(deg))*60))"
   ]
  },
  {
   "cell_type": "code",
   "execution_count": 3,
   "id": "12ccf56a-f06c-4a11-92bc-cccea3d6f840",
   "metadata": {
    "tags": []
   },
   "outputs": [],
   "source": [
    "df1 = pd.read_csv('df_05.csv')\n",
    "df2 = pd.read_csv('df_5.csv')"
   ]
  },
  {
   "cell_type": "code",
   "execution_count": 4,
   "id": "89d64846-ce83-4d1e-8ed2-140a0e7c6615",
   "metadata": {
    "tags": []
   },
   "outputs": [],
   "source": [
    "df1['DISTANCE'] = np.array((cosmo.luminosity_distance(df1['z_true'])*1000)).round(1)\n",
    "df2['DISTANCE'] = np.array((cosmo.luminosity_distance(df2['z_true'])*1000)).round(1)\n",
    "\n",
    "df1['mag_r'] = df1['mag_r'].round(3)\n",
    "df2['mag_r'] = df2['mag_r'].round(3)"
   ]
  },
  {
   "cell_type": "code",
   "execution_count": 5,
   "id": "5918c8f4-4739-4bbf-86fe-a3914f01b2c8",
   "metadata": {
    "tags": []
   },
   "outputs": [],
   "source": [
    "ra1 = np.empty(len(df1), dtype='object')\n",
    "dec1 = np.empty(len(df1), dtype='object')\n",
    "ra2 = np.empty(len(df2), dtype='object')\n",
    "dec2 = np.empty(len(df2), dtype='object')\n",
    "\n",
    "for i in range(len(df1)):\n",
    "    ra1[i] = deg2hms(df1['RA'][i])\n",
    "    dec1[i] = deg2dms(df1['DEC'][i])\n",
    "\n",
    "for i in range(len(df2)):\n",
    "    ra2[i] = deg2hms(df2['RA'][i])\n",
    "    dec2[i] = deg2dms(df2['DEC'][i])\n",
    "\n",
    "df1['RA'] = ra1\n",
    "df1['DEC'] = dec1\n",
    "df2['RA'] = ra2\n",
    "df2['DEC'] = dec2"
   ]
  },
  {
   "cell_type": "code",
   "execution_count": 6,
   "id": "27fe192b-4b4d-4531-9218-8a0d2645f597",
   "metadata": {
    "tags": []
   },
   "outputs": [],
   "source": [
    "df1['x1'] = np.array([1.0]*len(df1))\n",
    "df2['x1'] = np.array([1.0]*len(df2))\n",
    "df1['x2'] = np.array([0.5]*len(df1))\n",
    "df2['x2'] = np.array([0.5]*len(df2))\n",
    "df1['x3'] = np.array([.25]*len(df1))\n",
    "df2['x3'] = np.array([.25]*len(df2))"
   ]
  },
  {
   "cell_type": "code",
   "execution_count": 7,
   "id": "151fbc9a-05d5-4592-a61c-42a6eeca368f",
   "metadata": {
    "tags": []
   },
   "outputs": [
    {
     "data": {
      "text/html": [
       "<div>\n",
       "<style scoped>\n",
       "    .dataframe tbody tr th:only-of-type {\n",
       "        vertical-align: middle;\n",
       "    }\n",
       "\n",
       "    .dataframe tbody tr th {\n",
       "        vertical-align: top;\n",
       "    }\n",
       "\n",
       "    .dataframe thead th {\n",
       "        text-align: right;\n",
       "    }\n",
       "</style>\n",
       "<table border=\"1\" class=\"dataframe\">\n",
       "  <thead>\n",
       "    <tr style=\"text-align: right;\">\n",
       "      <th></th>\n",
       "      <th>ID</th>\n",
       "      <th>RA</th>\n",
       "      <th>DEC</th>\n",
       "      <th>DISTANCE</th>\n",
       "      <th>mag_r</th>\n",
       "      <th>x1</th>\n",
       "      <th>x2</th>\n",
       "      <th>x3</th>\n",
       "    </tr>\n",
       "  </thead>\n",
       "  <tbody>\n",
       "    <tr>\n",
       "      <th>0</th>\n",
       "      <td>364001568051</td>\n",
       "      <td>+3:00.75</td>\n",
       "      <td>+0:17.18</td>\n",
       "      <td>69553.4</td>\n",
       "      <td>20.770</td>\n",
       "      <td>1.0</td>\n",
       "      <td>0.5</td>\n",
       "      <td>0.25</td>\n",
       "    </tr>\n",
       "    <tr>\n",
       "      <th>1</th>\n",
       "      <td>364001010019</td>\n",
       "      <td>+2:58.92</td>\n",
       "      <td>+0:21.27</td>\n",
       "      <td>143704.0</td>\n",
       "      <td>19.038</td>\n",
       "      <td>1.0</td>\n",
       "      <td>0.5</td>\n",
       "      <td>0.25</td>\n",
       "    </tr>\n",
       "    <tr>\n",
       "      <th>2</th>\n",
       "      <td>364001346733</td>\n",
       "      <td>+3:00.36</td>\n",
       "      <td>+0:25.96</td>\n",
       "      <td>32795.7</td>\n",
       "      <td>18.383</td>\n",
       "      <td>1.0</td>\n",
       "      <td>0.5</td>\n",
       "      <td>0.25</td>\n",
       "    </tr>\n",
       "    <tr>\n",
       "      <th>3</th>\n",
       "      <td>364001064697</td>\n",
       "      <td>+3:01.02</td>\n",
       "      <td>+0:23.66</td>\n",
       "      <td>202969.9</td>\n",
       "      <td>20.486</td>\n",
       "      <td>1.0</td>\n",
       "      <td>0.5</td>\n",
       "      <td>0.25</td>\n",
       "    </tr>\n",
       "    <tr>\n",
       "      <th>4</th>\n",
       "      <td>364001150373</td>\n",
       "      <td>+3:00.98</td>\n",
       "      <td>+0:24.54</td>\n",
       "      <td>200827.4</td>\n",
       "      <td>21.183</td>\n",
       "      <td>1.0</td>\n",
       "      <td>0.5</td>\n",
       "      <td>0.25</td>\n",
       "    </tr>\n",
       "    <tr>\n",
       "      <th>...</th>\n",
       "      <td>...</td>\n",
       "      <td>...</td>\n",
       "      <td>...</td>\n",
       "      <td>...</td>\n",
       "      <td>...</td>\n",
       "      <td>...</td>\n",
       "      <td>...</td>\n",
       "      <td>...</td>\n",
       "    </tr>\n",
       "    <tr>\n",
       "      <th>741825</th>\n",
       "      <td>428000037419</td>\n",
       "      <td>+21:05.44</td>\n",
       "      <td>-1:29.78</td>\n",
       "      <td>140853.8</td>\n",
       "      <td>16.430</td>\n",
       "      <td>1.0</td>\n",
       "      <td>0.5</td>\n",
       "      <td>0.25</td>\n",
       "    </tr>\n",
       "    <tr>\n",
       "      <th>741826</th>\n",
       "      <td>428000490081</td>\n",
       "      <td>+21:04.89</td>\n",
       "      <td>-1:23.49</td>\n",
       "      <td>193090.3</td>\n",
       "      <td>22.174</td>\n",
       "      <td>1.0</td>\n",
       "      <td>0.5</td>\n",
       "      <td>0.25</td>\n",
       "    </tr>\n",
       "    <tr>\n",
       "      <th>741827</th>\n",
       "      <td>428000846902</td>\n",
       "      <td>+21:05.86</td>\n",
       "      <td>-1:21.42</td>\n",
       "      <td>143380.4</td>\n",
       "      <td>22.788</td>\n",
       "      <td>1.0</td>\n",
       "      <td>0.5</td>\n",
       "      <td>0.25</td>\n",
       "    </tr>\n",
       "    <tr>\n",
       "      <th>741828</th>\n",
       "      <td>428000897653</td>\n",
       "      <td>+21:05.52</td>\n",
       "      <td>-1:19.04</td>\n",
       "      <td>142230.2</td>\n",
       "      <td>23.041</td>\n",
       "      <td>1.0</td>\n",
       "      <td>0.5</td>\n",
       "      <td>0.25</td>\n",
       "    </tr>\n",
       "    <tr>\n",
       "      <th>741829</th>\n",
       "      <td>428000326443</td>\n",
       "      <td>+21:05.02</td>\n",
       "      <td>-1:19.05</td>\n",
       "      <td>161482.4</td>\n",
       "      <td>20.949</td>\n",
       "      <td>1.0</td>\n",
       "      <td>0.5</td>\n",
       "      <td>0.25</td>\n",
       "    </tr>\n",
       "  </tbody>\n",
       "</table>\n",
       "<p>741830 rows × 8 columns</p>\n",
       "</div>"
      ],
      "text/plain": [
       "                  ID         RA       DEC  DISTANCE   mag_r   x1   x2    x3\n",
       "0       364001568051   +3:00.75  +0:17.18   69553.4  20.770  1.0  0.5  0.25\n",
       "1       364001010019   +2:58.92  +0:21.27  143704.0  19.038  1.0  0.5  0.25\n",
       "2       364001346733   +3:00.36  +0:25.96   32795.7  18.383  1.0  0.5  0.25\n",
       "3       364001064697   +3:01.02  +0:23.66  202969.9  20.486  1.0  0.5  0.25\n",
       "4       364001150373   +3:00.98  +0:24.54  200827.4  21.183  1.0  0.5  0.25\n",
       "...              ...        ...       ...       ...     ...  ...  ...   ...\n",
       "741825  428000037419  +21:05.44  -1:29.78  140853.8  16.430  1.0  0.5  0.25\n",
       "741826  428000490081  +21:04.89  -1:23.49  193090.3  22.174  1.0  0.5  0.25\n",
       "741827  428000846902  +21:05.86  -1:21.42  143380.4  22.788  1.0  0.5  0.25\n",
       "741828  428000897653  +21:05.52  -1:19.04  142230.2  23.041  1.0  0.5  0.25\n",
       "741829  428000326443  +21:05.02  -1:19.05  161482.4  20.949  1.0  0.5  0.25\n",
       "\n",
       "[741830 rows x 8 columns]"
      ]
     },
     "execution_count": 7,
     "metadata": {},
     "output_type": "execute_result"
    }
   ],
   "source": [
    "df1 = df1[['ID', 'RA', 'DEC', 'DISTANCE', 'mag_r', 'x1', 'x2', 'x3']]\n",
    "df2 = df2[['ID', 'RA', 'DEC', 'DISTANCE', 'mag_r', 'x1', 'x2', 'x3']]\n",
    "df1"
   ]
  },
  {
   "cell_type": "code",
   "execution_count": 8,
   "id": "b7b755bd-f4fe-4129-b827-120b9beef922",
   "metadata": {
    "tags": []
   },
   "outputs": [],
   "source": [
    "df1.to_csv('buzzy3g_bns.txt', header=None, index=None, sep=' ', mode='a')\n",
    "df2.to_csv('buzzy3g_bbh.txt', header=None, index=None, sep=' ', mode='a')"
   ]
  }
 ],
 "metadata": {
  "kernelspec": {
   "display_name": "Python 3 (ipykernel)",
   "language": "python",
   "name": "python3"
  },
  "language_info": {
   "codemirror_mode": {
    "name": "ipython",
    "version": 3
   },
   "file_extension": ".py",
   "mimetype": "text/x-python",
   "name": "python",
   "nbconvert_exporter": "python",
   "pygments_lexer": "ipython3",
   "version": "3.11.0"
  }
 },
 "nbformat": 4,
 "nbformat_minor": 5
}
