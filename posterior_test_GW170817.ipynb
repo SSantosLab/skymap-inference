{
 "cells": [
  {
   "cell_type": "code",
   "execution_count": 1,
   "id": "f60da085-2a25-4ac9-884f-28d45a9d1805",
   "metadata": {},
   "outputs": [],
   "source": [
    "import pylab\n",
    "from pycbc.frame import read_frame\n",
    "from gwosc.datasets import event_gps\n",
    "from gwpy.timeseries import TimeSeries as TS\n",
    "import bilby\n",
    "from bilby.gw.conversion import convert_to_lal_binary_neutron_star_parameters, generate_all_bns_parameters\n",
    "%matplotlib inline\n",
    "\n",
    "merger = \"GW170817\"\n",
    "gps = float(event_gps(merger))"
   ]
  },
  {
   "cell_type": "code",
   "execution_count": 2,
   "id": "a37e6995-9d86-498a-8784-b7dea6b548b1",
   "metadata": {},
   "outputs": [
    {
     "name": "stderr",
     "output_type": "stream",
     "text": [
      "11:22 bilby INFO    : Reading data from frame file data/GW170817_L1_4KHZ.gwf\n",
      "11:22 bilby INFO    : Successfully loaded L1:GWOSC-4KHZ_R1_STRAIN.\n",
      "11:22 bilby INFO    : Reading data from frame file data/GW170817_H1_4KHZ.gwf\n",
      "11:22 bilby INFO    : Successfully loaded H1:GWOSC-4KHZ_R1_STRAIN.\n",
      "11:22 bilby INFO    : Reading data from frame file data/GW170817_V1_4KHZ.gwf\n",
      "11:22 bilby INFO    : Successfully loaded V1:GWOSC-4KHZ_R1_STRAIN.\n"
     ]
    }
   ],
   "source": [
    "sampling_rate = 4096 # needs to be high enough for the signals found in steps above\n",
    "duration = 4. # needs to be long enough for the signals found in steps above\n",
    "start_time = gps-duration/2 # needs to be set so that the segment defined by [start_time, start_time+duration] contains the signal\n",
    "\n",
    "interferometers = bilby.gw.detector.InterferometerList([])\n",
    "\n",
    "for ifo_name in ['L1', 'H1', 'V1']:\n",
    "    ifo = bilby.gw.detector.get_empty_interferometer(ifo_name)\n",
    "    ifo.set_strain_data_from_frame_file('data/'+merger+'_'+ifo_name+'_4KHZ.gwf', sampling_rate, duration, start_time=start_time, channel=ifo_name+':GWOSC-4KHZ_R1_STRAIN')\n",
    "    ifo.maximum_frequency = 2048\n",
    "    interferometers.append(ifo)"
   ]
  },
  {
   "cell_type": "code",
   "execution_count": 3,
   "id": "a9505241-f56b-4b44-891e-f5b13d7bb52d",
   "metadata": {},
   "outputs": [],
   "source": [
    "psd_alpha = 2 * interferometers[0].strain_data.roll_off / 4\n",
    "\n",
    "L1_psd_data = TS.read('data/'+merger+'_L1_PSD.gwf', 'Strain')\n",
    "L1_psd = L1_psd_data.psd(fftlength=4, overlap=0, window=(\"tukey\", psd_alpha), method=\"median\")\n",
    "interferometers[0].power_spectral_density = bilby.gw.detector.PowerSpectralDensity(frequency_array=L1_psd.frequencies.value, psd_array=L1_psd.value)\n",
    "\n",
    "H1_psd_data = TS.read('data/'+merger+'_H1_PSD.gwf', 'Strain')\n",
    "H1_psd = H1_psd_data.psd(fftlength=4, overlap=0, window=(\"tukey\", psd_alpha), method=\"median\")\n",
    "interferometers[1].power_spectral_density = bilby.gw.detector.PowerSpectralDensity(frequency_array=H1_psd.frequencies.value, psd_array=H1_psd.value)\n",
    "\n",
    "V1_psd_data = TS.read('data/'+merger+'_V1_PSD.gwf', 'Strain')\n",
    "V1_psd = V1_psd_data.psd(fftlength=4, overlap=0, window=(\"tukey\", psd_alpha), method=\"median\")\n",
    "interferometers[2].power_spectral_density = bilby.gw.detector.PowerSpectralDensity(frequency_array=V1_psd.frequencies.value, psd_array=V1_psd.value)"
   ]
  },
  {
   "cell_type": "code",
   "execution_count": 6,
   "id": "b0b44ff1-0543-460b-8ced-a0a592874d06",
   "metadata": {},
   "outputs": [
    {
     "name": "stderr",
     "output_type": "stream",
     "text": [
      "11:35 bilby INFO    : No prior given, using default BNS priors in /home/imcmahon/miniconda3/envs/igwn-py39/lib/python3.9/site-packages/bilby/gw/prior_files/aligned_spins_bns_tides_on.prior.\n",
      "11:35 bilby INFO    : Waveform generator initiated with\n",
      "  frequency_domain_source_model: bilby.gw.source.lal_binary_neutron_star\n",
      "  time_domain_source_model: None\n",
      "  parameter_conversion: bilby.gw.conversion.convert_to_lal_binary_neutron_star_parameters\n",
      "11:35 bilby INFO    : Loaded distance marginalisation lookup table from .distance_marginalization_lookup.npz.\n",
      "11:35 bilby INFO    : Running for label 'GW170817', output will be saved to 'short'\n",
      "11:35 bilby INFO    : Performing redundancy check using BBHPriorDict(self).test_redundancy\n",
      "11:35 bilby INFO    : Performing redundancy check using BBHPriorDict(self).test_redundancy\n",
      "11:35 bilby INFO    : Performing redundancy check using BBHPriorDict(self).test_redundancy\n",
      "11:35 bilby INFO    : Performing redundancy check using BBHPriorDict(self).test_redundancy\n",
      "11:35 bilby INFO    : Performing redundancy check using BBHPriorDict(self).test_redundancy\n",
      "11:35 bilby INFO    : Performing redundancy check using BBHPriorDict(self).test_redundancy\n",
      "11:35 bilby INFO    : Performing redundancy check using BBHPriorDict(self).test_redundancy\n",
      "11:35 bilby INFO    : Performing redundancy check using BBHPriorDict(self).test_redundancy\n",
      "11:35 bilby INFO    : Performing redundancy check using BBHPriorDict(self).test_redundancy\n",
      "11:35 bilby INFO    : Performing redundancy check using BBHPriorDict(self).test_redundancy\n",
      "11:35 bilby INFO    : Performing redundancy check using BBHPriorDict(self).test_redundancy\n",
      "11:35 bilby INFO    : Performing redundancy check using BBHPriorDict(self).test_redundancy\n",
      "11:35 bilby INFO    : Performing redundancy check using BBHPriorDict(self).test_redundancy\n",
      "11:35 bilby INFO    : Performing redundancy check using BBHPriorDict(self).test_redundancy\n",
      "11:35 bilby INFO    : Performing redundancy check using BBHPriorDict(self).test_redundancy\n",
      "11:35 bilby INFO    : Performing redundancy check using BBHPriorDict(self).test_redundancy\n",
      "11:35 bilby INFO    : Using lal version 7.1.7\n",
      "11:35 bilby INFO    : Using lal git version Branch: None;Tag: lal-v7.1.7;Id: c0930b69d9f2ad7151d1cadea5df72633ec47e67;;Builder: Adam Mercer <adam.mercer@ligo.org>;Repository status: CLEAN: All modifications committed\n",
      "11:35 bilby INFO    : Using lalsimulation version 3.1.2\n",
      "11:35 bilby INFO    : Using lalsimulation git version Branch: None;Tag: lalsimulation-v3.1.2;Id: 8c3a6977aa553c9a2019ec287a61dc5ee92087b4;;Builder: Adam Mercer <adam.mercer@ligo.org>;Repository status: CLEAN: All modifications committed\n",
      "11:35 bilby INFO    : Search parameters:\n",
      "11:35 bilby INFO    :   mass_ratio = Uniform(minimum=0.125, maximum=1, name='mass_ratio', latex_label='$q$', unit=None, boundary=None)\n",
      "11:35 bilby INFO    :   chirp_mass = Uniform(minimum=0.4, maximum=4.4, name='chirp_mass', latex_label='$\\\\mathcal{M}$', unit=None, boundary=None)\n",
      "11:35 bilby INFO    :   dec = Cosine(minimum=-1.5707963267948966, maximum=1.5707963267948966, name='dec', latex_label='$\\\\mathrm{DEC}$', unit=None, boundary=None)\n",
      "11:35 bilby INFO    :   ra = Uniform(minimum=0, maximum=6.283185307179586, name='ra', latex_label='$\\\\mathrm{RA}$', unit=None, boundary='periodic')\n",
      "11:35 bilby INFO    :   theta_jn = Sine(minimum=0, maximum=3.141592653589793, name='theta_jn', latex_label='$\\\\theta_{JN}$', unit=None, boundary=None)\n",
      "11:35 bilby INFO    :   psi = Uniform(minimum=0, maximum=3.141592653589793, name='psi', latex_label='$\\\\psi$', unit=None, boundary='periodic')\n",
      "11:35 bilby INFO    :   phase = Uniform(minimum=0, maximum=6.283185307179586, name='phase', latex_label='$\\\\phi$', unit=None, boundary='periodic')\n",
      "11:35 bilby INFO    :   chi_1 = AlignedSpin(a_prior=Uniform(minimum=0, maximum=0.99, name=None, latex_label=None, unit=None, boundary=None), z_prior=Uniform(minimum=-1, maximum=1, name=None, latex_label=None, unit=None, boundary=None), name='chi_1', latex_label='$\\\\chi_1$', unit=None, boundary=None, minimum=-0.99, maximum=0.99)\n",
      "11:35 bilby INFO    :   chi_2 = AlignedSpin(a_prior=Uniform(minimum=0, maximum=0.99, name=None, latex_label=None, unit=None, boundary=None), z_prior=Uniform(minimum=-1, maximum=1, name=None, latex_label=None, unit=None, boundary=None), name='chi_2', latex_label='$\\\\chi_2$', unit=None, boundary=None, minimum=-0.99, maximum=0.99)\n",
      "11:35 bilby INFO    :   lambda_1 = Uniform(minimum=0, maximum=5000, name='lambda_1', latex_label='$\\\\Lambda_1$', unit=None, boundary=None)\n",
      "11:35 bilby INFO    :   lambda_2 = Uniform(minimum=0, maximum=5000, name='lambda_2', latex_label='$\\\\Lambda_2$', unit=None, boundary=None)\n",
      "11:35 bilby INFO    :   time_jitter = Uniform(minimum=-0.000244140625, maximum=0.000244140625, name='time_jitter', latex_label='$t_j$', unit=None, boundary='periodic')\n",
      "11:35 bilby INFO    :   mass_1 = Constraint(minimum=0.5, maximum=5, name='mass_1', latex_label='$m_1$', unit=None)\n",
      "11:35 bilby INFO    :   mass_2 = Constraint(minimum=0.5, maximum=5, name='mass_2', latex_label='$m_2$', unit=None)\n",
      "11:35 bilby INFO    :   luminosity_distance = 3382.9535676089\n",
      "11:35 bilby INFO    :   geocent_time = 1187008880.3999023\n",
      "11:35 bilby INFO    : Generating frequency domain strain from given time domain strain.\n",
      "11:35 bilby INFO    : Applying a tukey window with alpha=0.1, roll off=0.2\n",
      "11:35 bilby INFO    : Generating frequency domain strain from given time domain strain.\n",
      "11:35 bilby INFO    : Applying a tukey window with alpha=0.1, roll off=0.2\n",
      "11:35 bilby INFO    : Generating frequency domain strain from given time domain strain.\n",
      "11:35 bilby INFO    : Applying a tukey window with alpha=0.1, roll off=0.2\n",
      "11:35 bilby INFO    : Single likelihood evaluation took 9.109e-03 s\n"
     ]
    },
    {
     "data": {
      "application/vnd.jupyter.widget-view+json": {
       "model_id": "891ca80970474aa288403f4ab7386f2c",
       "version_major": 2,
       "version_minor": 0
      },
      "text/plain": [
       "0it [00:00, ?it/s]"
      ]
     },
     "metadata": {},
     "output_type": "display_data"
    },
    {
     "name": "stderr",
     "output_type": "stream",
     "text": [
      "11:35 bilby INFO    : Using sampler Dynesty with kwargs {'bound': 'multi', 'sample': 'rwalk', 'verbose': True, 'periodic': None, 'reflective': None, 'check_point_delta_t': 1800, 'nlive': 250, 'first_update': None, 'walks': 100, 'npdim': None, 'rstate': None, 'queue_size': 1, 'pool': None, 'use_pool': None, 'live_points': None, 'logl_args': None, 'logl_kwargs': None, 'ptform_args': None, 'ptform_kwargs': None, 'enlarge': 1.5, 'bootstrap': None, 'vol_dec': 0.5, 'vol_check': 8.0, 'facc': 0.2, 'slices': 5, 'update_interval': 150, 'print_func': <bound method Dynesty._print_func of <bilby.core.sampler.dynesty.Dynesty object at 0x7f98356ffbb0>>, 'dlogz': 0.1, 'maxiter': None, 'maxcall': None, 'logl_max': inf, 'add_live': True, 'print_progress': True, 'save_bounds': False, 'n_effective': None, 'maxmcmc': 5000, 'nact': 5, 'print_method': 'tqdm'}\n",
      "11:35 bilby INFO    : Checkpoint every check_point_delta_t = 600s\n",
      "11:35 bilby INFO    : Using dynesty version 1.0.1\n",
      "11:35 bilby INFO    : Using the bilby-implemented rwalk sample method with ACT estimated walks\n",
      "11:35 bilby INFO    : Resume file short/GW170817_resume.pickle does not exist.\n",
      "11:35 bilby INFO    : Generating initial points from the prior\n",
      "11:45 bilby INFO    : Written checkpoint file short/GW170817_resume.pickle\n",
      "11:45 bilby WARNING : singular matrix\n",
      "11:45 bilby WARNING : Failed to create dynesty state plot at checkpoint\n",
      "11:45 bilby WARNING : singular matrix\n",
      "11:45 bilby WARNING : Failed to create dynesty unit state plot at checkpoint\n",
      "/home/imcmahon/miniconda3/envs/igwn-py39/lib/python3.9/site-packages/dynesty/plotting.py:179: RuntimeWarning: overflow encountered in exp\n",
      "  data = [nlive, np.exp(logl), np.exp(logwt), np.exp(logz)]\n",
      "11:45 bilby WARNING : singular matrix\n",
      "11:45 bilby WARNING : Failed to create dynesty run plot at checkpoint\n",
      "11:55 bilby INFO    : Written checkpoint file short/GW170817_resume.pickle\n",
      "/home/imcmahon/miniconda3/envs/igwn-py39/lib/python3.9/site-packages/dynesty/plotting.py:675: UserWarning: Attempting to set identical bottom == top == 0.0 results in singular transformations; automatically expanding.\n",
      "  ax.set_ylim([0., max(y0) * 1.05])\n",
      "/home/imcmahon/miniconda3/envs/igwn-py39/lib/python3.9/site-packages/dynesty/plotting.py:675: UserWarning: Attempting to set identical bottom == top == 0.0 results in singular transformations; automatically expanding.\n",
      "  ax.set_ylim([0., max(y0) * 1.05])\n",
      "/home/imcmahon/miniconda3/envs/igwn-py39/lib/python3.9/site-packages/dynesty/plotting.py:179: RuntimeWarning: overflow encountered in exp\n",
      "  data = [nlive, np.exp(logl), np.exp(logwt), np.exp(logz)]\n",
      "/home/imcmahon/miniconda3/envs/igwn-py39/lib/python3.9/site-packages/dynesty/plotting.py:203: RuntimeWarning: overflow encountered in exp\n",
      "  zspan = (0., 1.05 * np.exp(logz[-1] + 3. * logzerr[-1]))\n",
      "11:55 bilby WARNING : Axis limits cannot be NaN or Inf\n",
      "11:55 bilby WARNING : Failed to create dynesty run plot at checkpoint\n",
      "12:05 bilby INFO    : Written checkpoint file short/GW170817_resume.pickle\n",
      "/home/imcmahon/miniconda3/envs/igwn-py39/lib/python3.9/site-packages/dynesty/plotting.py:179: RuntimeWarning: overflow encountered in exp\n",
      "  data = [nlive, np.exp(logl), np.exp(logwt), np.exp(logz)]\n",
      "/home/imcmahon/miniconda3/envs/igwn-py39/lib/python3.9/site-packages/dynesty/plotting.py:203: RuntimeWarning: overflow encountered in exp\n",
      "  zspan = (0., 1.05 * np.exp(logz[-1] + 3. * logzerr[-1]))\n",
      "12:05 bilby WARNING : Axis limits cannot be NaN or Inf\n",
      "12:05 bilby WARNING : Failed to create dynesty run plot at checkpoint\n",
      "12:15 bilby INFO    : Written checkpoint file short/GW170817_resume.pickle\n",
      "12:15 bilby WARNING : singular matrix\n",
      "12:15 bilby WARNING : Failed to create dynesty state plot at checkpoint\n",
      "12:15 bilby WARNING : singular matrix\n",
      "12:15 bilby WARNING : Failed to create dynesty unit state plot at checkpoint\n",
      "/home/imcmahon/miniconda3/envs/igwn-py39/lib/python3.9/site-packages/dynesty/plotting.py:179: RuntimeWarning: overflow encountered in exp\n",
      "  data = [nlive, np.exp(logl), np.exp(logwt), np.exp(logz)]\n",
      "12:15 bilby WARNING : singular matrix\n",
      "12:15 bilby WARNING : Failed to create dynesty run plot at checkpoint\n",
      "12:25 bilby INFO    : Written checkpoint file short/GW170817_resume.pickle\n",
      "/home/imcmahon/miniconda3/envs/igwn-py39/lib/python3.9/site-packages/dynesty/plotting.py:179: RuntimeWarning: overflow encountered in exp\n",
      "  data = [nlive, np.exp(logl), np.exp(logwt), np.exp(logz)]\n",
      "/home/imcmahon/miniconda3/envs/igwn-py39/lib/python3.9/site-packages/dynesty/plotting.py:203: RuntimeWarning: overflow encountered in exp\n",
      "  zspan = (0., 1.05 * np.exp(logz[-1] + 3. * logzerr[-1]))\n",
      "12:25 bilby WARNING : Axis limits cannot be NaN or Inf\n",
      "12:25 bilby WARNING : Failed to create dynesty run plot at checkpoint\n",
      "12:35 bilby INFO    : Written checkpoint file short/GW170817_resume.pickle\n",
      "/home/imcmahon/miniconda3/envs/igwn-py39/lib/python3.9/site-packages/dynesty/plotting.py:179: RuntimeWarning: overflow encountered in exp\n",
      "  data = [nlive, np.exp(logl), np.exp(logwt), np.exp(logz)]\n",
      "/home/imcmahon/miniconda3/envs/igwn-py39/lib/python3.9/site-packages/dynesty/plotting.py:203: RuntimeWarning: overflow encountered in exp\n",
      "  zspan = (0., 1.05 * np.exp(logz[-1] + 3. * logzerr[-1]))\n",
      "12:35 bilby WARNING : Axis limits cannot be NaN or Inf\n",
      "12:35 bilby WARNING : Failed to create dynesty run plot at checkpoint\n",
      "12:46 bilby INFO    : Written checkpoint file short/GW170817_resume.pickle\n",
      "/home/imcmahon/miniconda3/envs/igwn-py39/lib/python3.9/site-packages/dynesty/plotting.py:179: RuntimeWarning: overflow encountered in exp\n",
      "  data = [nlive, np.exp(logl), np.exp(logwt), np.exp(logz)]\n",
      "/home/imcmahon/miniconda3/envs/igwn-py39/lib/python3.9/site-packages/dynesty/plotting.py:203: RuntimeWarning: overflow encountered in exp\n",
      "  zspan = (0., 1.05 * np.exp(logz[-1] + 3. * logzerr[-1]))\n",
      "12:46 bilby WARNING : Axis limits cannot be NaN or Inf\n",
      "12:46 bilby WARNING : Failed to create dynesty run plot at checkpoint\n",
      "12:56 bilby INFO    : Written checkpoint file short/GW170817_resume.pickle\n",
      "/home/imcmahon/miniconda3/envs/igwn-py39/lib/python3.9/site-packages/dynesty/plotting.py:179: RuntimeWarning: overflow encountered in exp\n",
      "  data = [nlive, np.exp(logl), np.exp(logwt), np.exp(logz)]\n",
      "/home/imcmahon/miniconda3/envs/igwn-py39/lib/python3.9/site-packages/dynesty/plotting.py:203: RuntimeWarning: overflow encountered in exp\n",
      "  zspan = (0., 1.05 * np.exp(logz[-1] + 3. * logzerr[-1]))\n",
      "12:56 bilby WARNING : Axis limits cannot be NaN or Inf\n",
      "12:56 bilby WARNING : Failed to create dynesty run plot at checkpoint\n",
      "13:06 bilby INFO    : Written checkpoint file short/GW170817_resume.pickle\n",
      "/home/imcmahon/miniconda3/envs/igwn-py39/lib/python3.9/site-packages/dynesty/plotting.py:179: RuntimeWarning: overflow encountered in exp\n",
      "  data = [nlive, np.exp(logl), np.exp(logwt), np.exp(logz)]\n",
      "/home/imcmahon/miniconda3/envs/igwn-py39/lib/python3.9/site-packages/dynesty/plotting.py:203: RuntimeWarning: overflow encountered in exp\n",
      "  zspan = (0., 1.05 * np.exp(logz[-1] + 3. * logzerr[-1]))\n",
      "13:06 bilby WARNING : Axis limits cannot be NaN or Inf\n",
      "13:06 bilby WARNING : Failed to create dynesty run plot at checkpoint\n",
      "13:16 bilby INFO    : Written checkpoint file short/GW170817_resume.pickle\n",
      "/home/imcmahon/miniconda3/envs/igwn-py39/lib/python3.9/site-packages/dynesty/plotting.py:179: RuntimeWarning: overflow encountered in exp\n",
      "  data = [nlive, np.exp(logl), np.exp(logwt), np.exp(logz)]\n",
      "/home/imcmahon/miniconda3/envs/igwn-py39/lib/python3.9/site-packages/dynesty/plotting.py:203: RuntimeWarning: overflow encountered in exp\n",
      "  zspan = (0., 1.05 * np.exp(logz[-1] + 3. * logzerr[-1]))\n",
      "13:16 bilby WARNING : Axis limits cannot be NaN or Inf\n",
      "13:16 bilby WARNING : Failed to create dynesty run plot at checkpoint\n",
      "13:26 bilby INFO    : Written checkpoint file short/GW170817_resume.pickle\n",
      "/home/imcmahon/miniconda3/envs/igwn-py39/lib/python3.9/site-packages/dynesty/plotting.py:179: RuntimeWarning: overflow encountered in exp\n",
      "  data = [nlive, np.exp(logl), np.exp(logwt), np.exp(logz)]\n",
      "/home/imcmahon/miniconda3/envs/igwn-py39/lib/python3.9/site-packages/dynesty/plotting.py:203: RuntimeWarning: overflow encountered in exp\n",
      "  zspan = (0., 1.05 * np.exp(logz[-1] + 3. * logzerr[-1]))\n",
      "13:26 bilby WARNING : Axis limits cannot be NaN or Inf\n",
      "13:26 bilby WARNING : Failed to create dynesty run plot at checkpoint\n",
      "13:36 bilby INFO    : Written checkpoint file short/GW170817_resume.pickle\n",
      "/home/imcmahon/miniconda3/envs/igwn-py39/lib/python3.9/site-packages/dynesty/plotting.py:179: RuntimeWarning: overflow encountered in exp\n",
      "  data = [nlive, np.exp(logl), np.exp(logwt), np.exp(logz)]\n",
      "/home/imcmahon/miniconda3/envs/igwn-py39/lib/python3.9/site-packages/dynesty/plotting.py:203: RuntimeWarning: overflow encountered in exp\n",
      "  zspan = (0., 1.05 * np.exp(logz[-1] + 3. * logzerr[-1]))\n",
      "13:36 bilby WARNING : Axis limits cannot be NaN or Inf\n",
      "13:36 bilby WARNING : Failed to create dynesty run plot at checkpoint\n",
      "13:46 bilby INFO    : Written checkpoint file short/GW170817_resume.pickle\n",
      "/home/imcmahon/miniconda3/envs/igwn-py39/lib/python3.9/site-packages/dynesty/plotting.py:179: RuntimeWarning: overflow encountered in exp\n",
      "  data = [nlive, np.exp(logl), np.exp(logwt), np.exp(logz)]\n",
      "/home/imcmahon/miniconda3/envs/igwn-py39/lib/python3.9/site-packages/dynesty/plotting.py:203: RuntimeWarning: overflow encountered in exp\n",
      "  zspan = (0., 1.05 * np.exp(logz[-1] + 3. * logzerr[-1]))\n",
      "13:46 bilby WARNING : Axis limits cannot be NaN or Inf\n",
      "13:46 bilby WARNING : Failed to create dynesty run plot at checkpoint\n",
      "13:56 bilby INFO    : Written checkpoint file short/GW170817_resume.pickle\n",
      "/home/imcmahon/miniconda3/envs/igwn-py39/lib/python3.9/site-packages/dynesty/plotting.py:179: RuntimeWarning: overflow encountered in exp\n",
      "  data = [nlive, np.exp(logl), np.exp(logwt), np.exp(logz)]\n",
      "/home/imcmahon/miniconda3/envs/igwn-py39/lib/python3.9/site-packages/dynesty/plotting.py:203: RuntimeWarning: overflow encountered in exp\n",
      "  zspan = (0., 1.05 * np.exp(logz[-1] + 3. * logzerr[-1]))\n",
      "13:56 bilby WARNING : Axis limits cannot be NaN or Inf\n",
      "13:56 bilby WARNING : Failed to create dynesty run plot at checkpoint\n",
      "14:07 bilby INFO    : Written checkpoint file short/GW170817_resume.pickle\n",
      "/home/imcmahon/miniconda3/envs/igwn-py39/lib/python3.9/site-packages/dynesty/plotting.py:179: RuntimeWarning: overflow encountered in exp\n",
      "  data = [nlive, np.exp(logl), np.exp(logwt), np.exp(logz)]\n",
      "/home/imcmahon/miniconda3/envs/igwn-py39/lib/python3.9/site-packages/dynesty/plotting.py:203: RuntimeWarning: overflow encountered in exp\n",
      "  zspan = (0., 1.05 * np.exp(logz[-1] + 3. * logzerr[-1]))\n",
      "14:07 bilby WARNING : Axis limits cannot be NaN or Inf\n",
      "14:07 bilby WARNING : Failed to create dynesty run plot at checkpoint\n",
      "14:17 bilby INFO    : Written checkpoint file short/GW170817_resume.pickle\n",
      "/home/imcmahon/miniconda3/envs/igwn-py39/lib/python3.9/site-packages/dynesty/plotting.py:179: RuntimeWarning: overflow encountered in exp\n",
      "  data = [nlive, np.exp(logl), np.exp(logwt), np.exp(logz)]\n",
      "/home/imcmahon/miniconda3/envs/igwn-py39/lib/python3.9/site-packages/dynesty/plotting.py:203: RuntimeWarning: overflow encountered in exp\n",
      "  zspan = (0., 1.05 * np.exp(logz[-1] + 3. * logzerr[-1]))\n",
      "14:17 bilby WARNING : Axis limits cannot be NaN or Inf\n",
      "14:17 bilby WARNING : Failed to create dynesty run plot at checkpoint\n",
      "14:27 bilby INFO    : Written checkpoint file short/GW170817_resume.pickle\n",
      "/home/imcmahon/miniconda3/envs/igwn-py39/lib/python3.9/site-packages/dynesty/plotting.py:179: RuntimeWarning: overflow encountered in exp\n",
      "  data = [nlive, np.exp(logl), np.exp(logwt), np.exp(logz)]\n",
      "/home/imcmahon/miniconda3/envs/igwn-py39/lib/python3.9/site-packages/dynesty/plotting.py:203: RuntimeWarning: overflow encountered in exp\n",
      "  zspan = (0., 1.05 * np.exp(logz[-1] + 3. * logzerr[-1]))\n",
      "14:27 bilby WARNING : Axis limits cannot be NaN or Inf\n",
      "14:27 bilby WARNING : Failed to create dynesty run plot at checkpoint\n",
      "14:37 bilby INFO    : Written checkpoint file short/GW170817_resume.pickle\n",
      "/home/imcmahon/miniconda3/envs/igwn-py39/lib/python3.9/site-packages/dynesty/plotting.py:179: RuntimeWarning: overflow encountered in exp\n",
      "  data = [nlive, np.exp(logl), np.exp(logwt), np.exp(logz)]\n",
      "/home/imcmahon/miniconda3/envs/igwn-py39/lib/python3.9/site-packages/dynesty/plotting.py:203: RuntimeWarning: overflow encountered in exp\n",
      "  zspan = (0., 1.05 * np.exp(logz[-1] + 3. * logzerr[-1]))\n",
      "14:37 bilby WARNING : Axis limits cannot be NaN or Inf\n",
      "14:37 bilby WARNING : Failed to create dynesty run plot at checkpoint\n",
      "14:37 bilby INFO    : Written checkpoint file short/GW170817_resume.pickle\n",
      "/home/imcmahon/miniconda3/envs/igwn-py39/lib/python3.9/site-packages/dynesty/plotting.py:179: RuntimeWarning: overflow encountered in exp\n",
      "  data = [nlive, np.exp(logl), np.exp(logwt), np.exp(logz)]\n",
      "/home/imcmahon/miniconda3/envs/igwn-py39/lib/python3.9/site-packages/dynesty/plotting.py:203: RuntimeWarning: overflow encountered in exp\n",
      "  zspan = (0., 1.05 * np.exp(logz[-1] + 3. * logzerr[-1]))\n",
      "14:37 bilby WARNING : Axis limits cannot be NaN or Inf\n",
      "14:37 bilby WARNING : Failed to create dynesty run plot at checkpoint\n"
     ]
    },
    {
     "name": "stdout",
     "output_type": "stream",
     "text": [
      "\n"
     ]
    },
    {
     "name": "stderr",
     "output_type": "stream",
     "text": [
      "14:37 bilby INFO    : Sampling time: 3:02:14.562406\n",
      "14:37 bilby INFO    : Reconstructing marginalised parameters.\n",
      "14:37 bilby INFO    : Cached samples dict out of date, ignoring\n"
     ]
    },
    {
     "data": {
      "application/vnd.jupyter.widget-view+json": {
       "model_id": "2614d00543ee4761bfdaf50e5c408046",
       "version_major": 2,
       "version_minor": 0
      },
      "text/plain": [
       "  0%|          | 0/11806 [00:00<?, ?it/s]"
      ]
     },
     "metadata": {},
     "output_type": "display_data"
    },
    {
     "name": "stderr",
     "output_type": "stream",
     "text": [
      "14:40 bilby INFO    : Generating sky frame parameters.\n"
     ]
    },
    {
     "data": {
      "application/vnd.jupyter.widget-view+json": {
       "model_id": "fc31c35a6ea04642b9931fc287bc8463",
       "version_major": 2,
       "version_minor": 0
      },
      "text/plain": [
       "  0%|          | 0/11806 [00:00<?, ?it/s]"
      ]
     },
     "metadata": {},
     "output_type": "display_data"
    },
    {
     "name": "stderr",
     "output_type": "stream",
     "text": [
      "14:40 bilby INFO    : Computing SNRs for every sample.\n"
     ]
    },
    {
     "data": {
      "application/vnd.jupyter.widget-view+json": {
       "model_id": "6ec7278a7e4a40d9bb34ca51427f46fc",
       "version_major": 2,
       "version_minor": 0
      },
      "text/plain": [
       "  0%|          | 0/11806 [00:00<?, ?it/s]"
      ]
     },
     "metadata": {},
     "output_type": "display_data"
    },
    {
     "name": "stderr",
     "output_type": "stream",
     "text": [
      "14:41 bilby INFO    : Summary of results:\n",
      "nsamples: 11806\n",
      "ln_noise_evidence: -362686.975\n",
      "ln_evidence: -359849.292 +/-  0.568\n",
      "ln_bayes_factor: 2837.682 +/-  0.568\n",
      "\n"
     ]
    }
   ],
   "source": [
    "prior = bilby.gw.prior.BNSPriorDict()\n",
    "\n",
    "prior[\"geocent_time\"] = bilby.core.prior.Uniform(gps-0.1, gps+0.1, name=\"geocent_time\")\n",
    "\n",
    "waveform_arguments = dict(waveform_approximant='IMRPhenomPv2_NRTidalv2', reference_frequency=20., catch_waveform_errors=True)\n",
    "waveform_generator = bilby.gw.WaveformGenerator(\n",
    "    frequency_domain_source_model=bilby.gw.source.lal_binary_neutron_star,\n",
    "    waveform_arguments=waveform_arguments,\n",
    "    parameter_conversion=convert_to_lal_binary_neutron_star_parameters)\n",
    "\n",
    "likelihood = bilby.gw.likelihood.GravitationalWaveTransient(\n",
    "    interferometers, waveform_generator, priors=prior,\n",
    "    time_marginalization=True, phase_marginalization=False, distance_marginalization=True)\n",
    "\n",
    "result_short = bilby.run_sampler(\n",
    "    likelihood,\n",
    "    prior,\n",
    "    sampler='dynesty',\n",
    "    outdir='short',\n",
    "    label='GW170817',\n",
    "    nlive=250,\n",
    "    conversion_function=bilby.gw.conversion.generate_all_bns_parameters\n",
    ")"
   ]
  },
  {
   "cell_type": "code",
   "execution_count": 7,
   "id": "d1ec0af6-4146-4e98-9432-3a5db9d59fb8",
   "metadata": {},
   "outputs": [
    {
     "data": {
      "image/png": "[encoded data removed]",
      "text/plain": [
       "<Figure size 396x396 with 4 Axes>"
      ]
     },
     "execution_count": 7,
     "metadata": {},
     "output_type": "execute_result"
    }
   ],
   "source": [
    "result_short.plot_corner(parameters=[\"mass_1\", \"mass_2\"])"
   ]
  },
  {
   "cell_type": "code",
   "execution_count": 8,
   "id": "75204f62-0f03-42db-b233-b1c0f9ca1237",
   "metadata": {},
   "outputs": [
    {
     "data": {
      "image/png": "[encoded data removed]",
      "text/plain": [
       "<Figure size 396x396 with 4 Axes>"
      ]
     },
     "execution_count": 8,
     "metadata": {},
     "output_type": "execute_result"
    }
   ],
   "source": [
    "result_short.plot_corner(parameters=[\"ra\", \"dec\"])"
   ]
  },
  {
   "cell_type": "code",
   "execution_count": 9,
   "id": "6fa71fee-fa09-4440-8da7-b2073595fa31",
   "metadata": {},
   "outputs": [
    {
     "data": {
      "image/png": "[encoded data removed]",
      "text/plain": [
       "<Figure size 432x288 with 1 Axes>"
      ]
     },
     "execution_count": 9,
     "metadata": {},
     "output_type": "execute_result"
    }
   ],
   "source": [
    "result_short.plot_corner(parameters=[\"luminosity_distance\"])"
   ]
  },
  {
   "cell_type": "code",
   "execution_count": null,
   "id": "dd11106b-f809-4bd7-b7df-3bf608b442e5",
   "metadata": {},
   "outputs": [],
   "source": [
    "prior = bilby.gw.prior.BNSPriorDict()\n",
    "\n",
    "prior[\"ra\"] = bilby.core.prior.Gaussian(name=\"ra\", mu=3.44616, sigma=0.000005)\n",
    "prior[\"dec\"] = bilby.core.prior.Gaussian(name=\"dec\", mu=-0.40808, sigma=0.000005)\n",
    "prior[\"geocent_time\"] = bilby.core.prior.Uniform(gps-0.1, gps+0.1, name=\"geocent_time\")\n",
    "\n",
    "waveform_arguments = dict(waveform_approximant='IMRPhenomPv2_NRTidalv2', reference_frequency=20., catch_waveform_errors=True)\n",
    "waveform_generator = bilby.gw.WaveformGenerator(\n",
    "    frequency_domain_source_model=bilby.gw.source.lal_binary_neutron_star,\n",
    "    waveform_arguments=waveform_arguments,\n",
    "    parameter_conversion=convert_to_lal_binary_neutron_star_parameters)\n",
    "\n",
    "likelihood = bilby.gw.likelihood.GravitationalWaveTransient(\n",
    "    interferometers, waveform_generator, priors=prior,\n",
    "    time_marginalization=True, phase_marginalization=False, distance_marginalization=True)\n",
    "\n",
    "result_short = bilby.run_sampler(\n",
    "    likelihood,\n",
    "    prior,\n",
    "    sampler='dynesty',\n",
    "    outdir='short',\n",
    "    label='GW170817',\n",
    "    nlive=250,\n",
    "    conversion_function=bilby.gw.conversion.generate_all_bns_parameters\n",
    ")"
   ]
  },
  {
   "cell_type": "code",
   "execution_count": null,
   "id": "97c20305-813d-4a35-90f9-f984eeb0c221",
   "metadata": {},
   "outputs": [],
   "source": [
    "result_short.plot_corner(parameters=[\"mass_1\", \"mass_2\"])"
   ]
  },
  {
   "cell_type": "code",
   "execution_count": null,
   "id": "8ef878c3-55ec-4815-936f-532c596987ed",
   "metadata": {},
   "outputs": [],
   "source": [
    "result_short.plot_corner(parameters=[\"ra\", \"dec\"])"
   ]
  },
  {
   "cell_type": "code",
   "execution_count": null,
   "id": "b7c4695c-0fa8-4898-a3bc-6847256189e7",
   "metadata": {},
   "outputs": [],
   "source": [
    "result_short.plot_corner(parameters=[\"luminosity_distance\"])"
   ]
  }
 ],
 "metadata": {
  "kernelspec": {
   "display_name": "Python (igwn-py39)",
   "language": "python",
   "name": "igwn-py39"
  },
  "language_info": {
   "codemirror_mode": {
    "name": "ipython",
    "version": 3
   },
   "file_extension": ".py",
   "mimetype": "text/x-python",
   "name": "python",
   "nbconvert_exporter": "python",
   "pygments_lexer": "ipython3",
   "version": "3.9.12"
  }
 },
 "nbformat": 4,
 "nbformat_minor": 5
}
