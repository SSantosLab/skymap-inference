{
 "cells": [
  {
   "cell_type": "markdown",
   "id": "1b746ce4-d6f0-4d2a-9e56-c12029e44315",
   "metadata": {},
   "source": [
    "TODO:<br>\n",
    "Contact Felipe for simulated all-sky catalog 2d skymaps<br>\n",
    "Set up injected waveform generator to compare true values to posteriors (allows using true delta function priors)<br>\n",
    "Compare inference with no assumptions vs inference with skymap prior<br>"
   ]
  },
  {
   "cell_type": "code",
   "execution_count": null,
   "id": "ff635d16-ffd3-4180-901c-df62677d50e5",
   "metadata": {},
   "outputs": [],
   "source": []
  }
 ],
 "metadata": {
  "kernelspec": {
   "display_name": "Python (igwn-py39)",
   "language": "python",
   "name": "igwn-py39"
  },
  "language_info": {
   "codemirror_mode": {
    "name": "ipython",
    "version": 3
   },
   "file_extension": ".py",
   "mimetype": "text/x-python",
   "name": "python",
   "nbconvert_exporter": "python",
   "pygments_lexer": "ipython3",
   "version": "3.9.12"
  }
 },
 "nbformat": 4,
 "nbformat_minor": 5
}
