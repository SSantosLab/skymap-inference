{
 "cells": [
  {
   "cell_type": "code",
   "execution_count": 1,
   "id": "e5675543-83da-4050-a6ce-bb6b1350567f",
   "metadata": {
    "tags": []
   },
   "outputs": [],
   "source": [
    "import bilby\n",
    "import numpy as np\n",
    "import healpy as hp\n",
    "import pandas as pd\n",
    "import pylab\n",
    "from astropy.table import Table\n",
    "import astropy.cosmology as cosmo\n",
    "\n",
    "name = 'HL2'\n",
    "outdir = 'data/simlogs/'+name\n",
    "bilby.core.utils.setup_logger(outdir=outdir)\n",
    "\n",
    "duration = 4.0\n",
    "sampling_frequency = 2048.0\n",
    "minimum_frequency = 20\n",
    "\n",
    "run_data = dict()"
   ]
  },
  {
   "cell_type": "markdown",
   "id": "5e48ed1e-e4f0-440f-9cdf-815d45c63c48",
   "metadata": {},
   "source": [
    "<h2>Pick a galaxy from the catalog and generate event parameters</h2>"
   ]
  },
  {
   "cell_type": "code",
   "execution_count": 2,
   "id": "bd999e7f-7bb9-43c3-bfd3-368c2be094ae",
   "metadata": {
    "tags": []
   },
   "outputs": [],
   "source": [
    "catalog = Table.read('data/catalog_fullsky_zsm1.fits.gz').to_pandas()\n",
    "\n",
    "ra = catalog['RA'].values\n",
    "dec = catalog['DEC'].values\n",
    "z = catalog['REDSHIFT'].values\n",
    "\n",
    "mask = (z<0.2) & (ra>0) & (ra<360) & (np.abs(dec)<90)\n",
    "\n",
    "ra = ra[mask] * np.pi / 180\n",
    "dec = dec[mask] * np.pi / 180\n",
    "z = z[mask]\n",
    "\n",
    "cosmology = cosmo.WMAP7\n",
    "bilby.gw.cosmology.set_cosmology(cosmology=cosmology)\n",
    "\n",
    "dl = bilby.gw.conversion.redshift_to_luminosity_distance(z)"
   ]
  },
  {
   "cell_type": "code",
   "execution_count": 6,
   "id": "6b75456d-26e7-4c3f-9ace-c7972daf67a7",
   "metadata": {},
   "outputs": [],
   "source": [
    "masses = np.random.uniform(25,35,2)\n",
    "index = np.random.randint(0, len(z))\n",
    "sindist = bilby.core.prior.Sine()\n",
    "cosdist = bilby.core.prior.Cosine()\n",
    "\n",
    "injection_parameters = dict(mass_1=np.max(masses),\n",
    "                            mass_2=np.min(masses),\n",
    "                            a_1=np.random.uniform(0, 0.99),\n",
    "                            a_2=np.random.uniform(0, 0.99),\n",
    "                            tilt_1=sindist.sample(),\n",
    "                            tilt_2=sindist.sample(),\n",
    "                            phi_12=np.random.uniform(0, 2*np.pi),\n",
    "                            phi_jl=np.random.uniform(0, 2*np.pi),\n",
    "                            luminosity_distance=dl[index],\n",
    "                            theta_jn=sindist.sample(),\n",
    "                            psi=np.random.uniform(0, np.pi),\n",
    "                            phase=np.random.uniform(0, 2*np.pi),\n",
    "                            geocent_time=np.random.uniform(1.1e9, 1.2e9),\n",
    "                            ra=ra[index],\n",
    "                            dec=dec[index]\n",
    "                           )\n",
    "\n",
    "run_data['index'] = index\n",
    "run_data['id'] = name\n",
    "for key in injection_parameters:\n",
    "    run_data[key] = injection_parameters[key]"
   ]
  },
  {
   "cell_type": "markdown",
   "id": "78c6bf75-48f3-46d3-88a1-06aeb9ff0543",
   "metadata": {},
   "source": [
    "<h2>Uniform All-Sky Distribution Run</h2>"
   ]
  },
  {
   "cell_type": "code",
   "execution_count": 7,
   "id": "33bf2414-9543-4777-b6ce-0a33d6a6c076",
   "metadata": {},
   "outputs": [
    {
     "name": "stderr",
     "output_type": "stream",
     "text": [
      "12:38 bilby INFO    : Waveform generator initiated with\n",
      "  frequency_domain_source_model: bilby.gw.source.lal_binary_black_hole\n",
      "  time_domain_source_model: None\n",
      "  parameter_conversion: bilby.gw.conversion.convert_to_lal_binary_black_hole_parameters\n",
      "12:38 bilby INFO    : Injected signal in H1:\n",
      "12:38 bilby INFO    :   optimal SNR = 54.31\n",
      "12:38 bilby INFO    :   matched filter SNR = 55.59-0.79j\n",
      "12:38 bilby INFO    :   mass_1 = 30.217311217519367\n",
      "12:38 bilby INFO    :   mass_2 = 29.438553059882512\n",
      "12:38 bilby INFO    :   a_1 = 0.7513861074949716\n",
      "12:38 bilby INFO    :   a_2 = 0.6775246946853614\n",
      "12:38 bilby INFO    :   tilt_1 = 0.4195402987370333\n",
      "12:38 bilby INFO    :   tilt_2 = 0.9471592794232708\n",
      "12:38 bilby INFO    :   phi_12 = 5.605047812344974\n",
      "12:38 bilby INFO    :   phi_jl = 0.16950619973375008\n",
      "12:38 bilby INFO    :   luminosity_distance = 373.0783085045788\n",
      "12:38 bilby INFO    :   theta_jn = 1.9960130340723063\n",
      "12:38 bilby INFO    :   psi = 0.7922942262461422\n",
      "12:38 bilby INFO    :   phase = 1.621087868414289\n",
      "12:38 bilby INFO    :   geocent_time = 1134012973.5786135\n",
      "12:38 bilby INFO    :   ra = 3.9921247959136963\n",
      "12:38 bilby INFO    :   dec = -0.7903082966804504\n",
      "12:38 bilby INFO    : Injected signal in L1:\n",
      "12:38 bilby INFO    :   optimal SNR = 58.34\n",
      "12:38 bilby INFO    :   matched filter SNR = 57.36+0.50j\n",
      "12:38 bilby INFO    :   mass_1 = 30.217311217519367\n",
      "12:38 bilby INFO    :   mass_2 = 29.438553059882512\n",
      "12:38 bilby INFO    :   a_1 = 0.7513861074949716\n",
      "12:38 bilby INFO    :   a_2 = 0.6775246946853614\n",
      "12:38 bilby INFO    :   tilt_1 = 0.4195402987370333\n",
      "12:38 bilby INFO    :   tilt_2 = 0.9471592794232708\n",
      "12:38 bilby INFO    :   phi_12 = 5.605047812344974\n",
      "12:38 bilby INFO    :   phi_jl = 0.16950619973375008\n",
      "12:38 bilby INFO    :   luminosity_distance = 373.0783085045788\n",
      "12:38 bilby INFO    :   theta_jn = 1.9960130340723063\n",
      "12:38 bilby INFO    :   psi = 0.7922942262461422\n",
      "12:38 bilby INFO    :   phase = 1.621087868414289\n",
      "12:38 bilby INFO    :   geocent_time = 1134012973.5786135\n",
      "12:38 bilby INFO    :   ra = 3.9921247959136963\n",
      "12:38 bilby INFO    :   dec = -0.7903082966804504\n"
     ]
    },
    {
     "data": {
      "text/plain": [
       "[{'plus': array([0.-0.j, 0.-0.j, 0.-0.j, ..., 0.-0.j, 0.-0.j, 0.-0.j]),\n",
       "  'cross': array([0.+0.j, 0.+0.j, 0.+0.j, ..., 0.+0.j, 0.+0.j, 0.+0.j])},\n",
       " {'plus': array([0.-0.j, 0.-0.j, 0.-0.j, ..., 0.-0.j, 0.-0.j, 0.-0.j]),\n",
       "  'cross': array([0.+0.j, 0.+0.j, 0.+0.j, ..., 0.+0.j, 0.+0.j, 0.+0.j])}]"
      ]
     },
     "execution_count": 7,
     "metadata": {},
     "output_type": "execute_result"
    }
   ],
   "source": [
    "waveform_arguments = dict(waveform_approximant=\"IMRPhenomPv2\",\n",
    "                          reference_frequency=50.0,\n",
    "                          minimum_frequency=minimum_frequency,\n",
    "                          catch_waveform_errors=True\n",
    "                         )\n",
    "\n",
    "waveform_generator = bilby.gw.WaveformGenerator(duration=duration,\n",
    "                                                sampling_frequency=sampling_frequency,\n",
    "                                                frequency_domain_source_model=bilby.gw.source.lal_binary_black_hole,\n",
    "                                                parameter_conversion=bilby.gw.conversion.convert_to_lal_binary_black_hole_parameters,\n",
    "                                                waveform_arguments=waveform_arguments\n",
    "                                               )\n",
    "\n",
    "ifos = bilby.gw.detector.InterferometerList([\"H1\", \"L1\"])\n",
    "\n",
    "ifos.set_strain_data_from_power_spectral_densities(sampling_frequency=sampling_frequency,\n",
    "                                                   duration=duration,\n",
    "                                                   start_time=injection_parameters[\"geocent_time\"] - 2\n",
    "                                                  )\n",
    "\n",
    "ifos.inject_signal(waveform_generator=waveform_generator, parameters=injection_parameters)"
   ]
  },
  {
   "cell_type": "code",
   "execution_count": 8,
   "id": "b46e9001-6cd3-4d2b-b398-fde31b4cb3f9",
   "metadata": {},
   "outputs": [
    {
     "name": "stderr",
     "output_type": "stream",
     "text": [
      "12:38 bilby INFO    : No prior given, using default BBH priors in /home/imcmahon/miniconda3/envs/igwn-py39/lib/python3.9/site-packages/bilby/gw/prior_files/precessing_spins_bbh.prior.\n",
      "12:38 bilby INFO    : Loaded distance marginalisation lookup table does not match for distance_array.\n",
      "12:38 bilby INFO    : Building lookup table for distance marginalisation.\n"
     ]
    },
    {
     "data": {
      "application/vnd.jupyter.widget-view+json": {
       "model_id": "1a7f37c4d683481989bb49b15039454b",
       "version_major": 2,
       "version_minor": 0
      },
      "text/plain": [
       "  0%|          | 0/400 [00:00<?, ?it/s]"
      ]
     },
     "metadata": {},
     "output_type": "display_data"
    }
   ],
   "source": [
    "prior = bilby.gw.prior.BBHPriorDict()\n",
    "for key in [\"mass_1\",\n",
    "            \"mass_2\",\n",
    "            \"a_1\",\n",
    "            \"a_2\",\n",
    "            \"tilt_1\",\n",
    "            \"tilt_2\",\n",
    "            \"theta_jn\",\n",
    "            \"phi_12\",\n",
    "            \"phi_jl\",\n",
    "            \"psi\",\n",
    "            \"phase\",\n",
    "           ]:\n",
    "    prior[key] = injection_parameters[key]\n",
    "\n",
    "prior[\"luminosity_distance\"] = bilby.core.prior.PowerLaw(alpha=2, name='luminosity_distance', minimum=np.min(dl), maximum=1500, unit='Mpc', latex_label='$d_L$')\n",
    "prior[\"geocent_time\"] = bilby.core.prior.Uniform(injection_parameters['geocent_time']-0.1, injection_parameters['geocent_time']+0.1, name=\"geocent_time\")\n",
    "prior.pop(\"chirp_mass\")\n",
    "prior.pop(\"mass_ratio\")\n",
    "\n",
    "likelihood = bilby.gw.GravitationalWaveTransient(interferometers=ifos, waveform_generator=waveform_generator, priors=prior,\n",
    "                                                 time_marginalization=True, phase_marginalization=False, distance_marginalization=True)"
   ]
  },
  {
   "cell_type": "code",
   "execution_count": 9,
   "id": "af660323-aa30-40f4-b49b-115910f4934b",
   "metadata": {},
   "outputs": [
    {
     "name": "stderr",
     "output_type": "stream",
     "text": [
      "12:39 bilby INFO    : Running for label 'HL1-injection-uniform', output will be saved to 'data/simlogs'\n",
      "12:39 bilby INFO    : Using lal version 7.1.7\n",
      "12:39 bilby INFO    : Using lal git version Branch: None;Tag: lal-v7.1.7;Id: c0930b69d9f2ad7151d1cadea5df72633ec47e67;;Builder: Adam Mercer <adam.mercer@ligo.org>;Repository status: CLEAN: All modifications committed\n",
      "12:39 bilby INFO    : Using lalsimulation version 3.1.2\n",
      "12:39 bilby INFO    : Using lalsimulation git version Branch: None;Tag: lalsimulation-v3.1.2;Id: 8c3a6977aa553c9a2019ec287a61dc5ee92087b4;;Builder: Adam Mercer <adam.mercer@ligo.org>;Repository status: CLEAN: All modifications committed\n",
      "12:39 bilby INFO    : Search parameters:\n",
      "12:39 bilby INFO    :   dec = Cosine(minimum=-1.5707963267948966, maximum=1.5707963267948966, name='dec', latex_label='$\\\\mathrm{DEC}$', unit=None, boundary=None)\n",
      "12:39 bilby INFO    :   ra = Uniform(minimum=0, maximum=6.283185307179586, name='ra', latex_label='$\\\\mathrm{RA}$', unit=None, boundary='periodic')\n",
      "12:39 bilby INFO    :   time_jitter = Uniform(minimum=-0.00048828125, maximum=0.00048828125, name='time_jitter', latex_label='$t_j$', unit=None, boundary='periodic')\n",
      "12:39 bilby INFO    :   mass_1 = 30.217311217519367\n",
      "12:39 bilby INFO    :   mass_2 = 29.438553059882512\n",
      "12:39 bilby INFO    :   luminosity_distance = 1190.5518658193298\n",
      "12:39 bilby INFO    :   theta_jn = 1.9960130340723063\n",
      "12:39 bilby INFO    :   psi = 0.7922942262461422\n",
      "12:39 bilby INFO    :   phase = 1.621087868414289\n",
      "12:39 bilby INFO    :   a_1 = 0.7513861074949716\n",
      "12:39 bilby INFO    :   a_2 = 0.6775246946853614\n",
      "12:39 bilby INFO    :   tilt_1 = 0.4195402987370333\n",
      "12:39 bilby INFO    :   tilt_2 = 0.9471592794232708\n",
      "12:39 bilby INFO    :   phi_12 = 5.605047812344974\n",
      "12:39 bilby INFO    :   phi_jl = 0.16950619973375008\n",
      "12:39 bilby INFO    :   geocent_time = 1134012971.5786135\n",
      "12:39 bilby INFO    : Single likelihood evaluation took 2.858e-03 s\n"
     ]
    },
    {
     "data": {
      "application/vnd.jupyter.widget-view+json": {
       "model_id": "7a4d615903a94dfeb00791a33def81ad",
       "version_major": 2,
       "version_minor": 0
      },
      "text/plain": [
       "0it [00:00, ?it/s]"
      ]
     },
     "metadata": {},
     "output_type": "display_data"
    },
    {
     "name": "stderr",
     "output_type": "stream",
     "text": [
      "12:39 bilby INFO    : Using sampler Dynesty with kwargs {'bound': 'multi', 'sample': 'rwalk', 'verbose': True, 'periodic': None, 'reflective': None, 'check_point_delta_t': 1800, 'nlive': 2000, 'first_update': None, 'walks': 100, 'npdim': None, 'rstate': None, 'queue_size': 1, 'pool': None, 'use_pool': None, 'live_points': None, 'logl_args': None, 'logl_kwargs': None, 'ptform_args': None, 'ptform_kwargs': None, 'enlarge': 1.5, 'bootstrap': None, 'vol_dec': 0.5, 'vol_check': 8.0, 'facc': 0.2, 'slices': 5, 'update_interval': 1200, 'print_func': <bound method Dynesty._print_func of <bilby.core.sampler.dynesty.Dynesty object at 0x7fdf9d312c70>>, 'dlogz': 0.1, 'maxiter': None, 'maxcall': None, 'logl_max': inf, 'add_live': True, 'print_progress': True, 'save_bounds': False, 'n_effective': None, 'maxmcmc': 5000, 'nact': 5, 'print_method': 'tqdm'}\n",
      "12:39 bilby INFO    : Checkpoint every check_point_delta_t = 600s\n",
      "12:39 bilby INFO    : Using dynesty version 1.0.1\n",
      "12:39 bilby INFO    : Using the bilby-implemented rwalk sample method with ACT estimated walks\n",
      "12:39 bilby INFO    : Resume file data/simlogs/HL1-injection-uniform_resume.pickle does not exist.\n",
      "12:39 bilby INFO    : Generating initial points from the prior\n",
      "12:49 bilby INFO    : Written checkpoint file data/simlogs/HL1-injection-uniform_resume.pickle\n",
      "/home/imcmahon/miniconda3/envs/igwn-py39/lib/python3.9/site-packages/dynesty/plotting.py:179: RuntimeWarning: overflow encountered in exp\n",
      "  data = [nlive, np.exp(logl), np.exp(logwt), np.exp(logz)]\n",
      "/home/imcmahon/miniconda3/envs/igwn-py39/lib/python3.9/site-packages/dynesty/plotting.py:203: RuntimeWarning: overflow encountered in exp\n",
      "  zspan = (0., 1.05 * np.exp(logz[-1] + 3. * logzerr[-1]))\n",
      "12:49 bilby WARNING : Axis limits cannot be NaN or Inf\n",
      "12:49 bilby WARNING : Failed to create dynesty run plot at checkpoint\n",
      "12:59 bilby INFO    : Written checkpoint file data/simlogs/HL1-injection-uniform_resume.pickle\n",
      "/home/imcmahon/miniconda3/envs/igwn-py39/lib/python3.9/site-packages/dynesty/plotting.py:179: RuntimeWarning: overflow encountered in exp\n",
      "  data = [nlive, np.exp(logl), np.exp(logwt), np.exp(logz)]\n",
      "/home/imcmahon/miniconda3/envs/igwn-py39/lib/python3.9/site-packages/dynesty/plotting.py:203: RuntimeWarning: overflow encountered in exp\n",
      "  zspan = (0., 1.05 * np.exp(logz[-1] + 3. * logzerr[-1]))\n",
      "12:59 bilby WARNING : Axis limits cannot be NaN or Inf\n",
      "12:59 bilby WARNING : Failed to create dynesty run plot at checkpoint\n",
      "13:09 bilby INFO    : Written checkpoint file data/simlogs/HL1-injection-uniform_resume.pickle\n",
      "/home/imcmahon/miniconda3/envs/igwn-py39/lib/python3.9/site-packages/dynesty/plotting.py:179: RuntimeWarning: overflow encountered in exp\n",
      "  data = [nlive, np.exp(logl), np.exp(logwt), np.exp(logz)]\n",
      "/home/imcmahon/miniconda3/envs/igwn-py39/lib/python3.9/site-packages/dynesty/plotting.py:203: RuntimeWarning: overflow encountered in exp\n",
      "  zspan = (0., 1.05 * np.exp(logz[-1] + 3. * logzerr[-1]))\n",
      "13:09 bilby WARNING : Axis limits cannot be NaN or Inf\n",
      "13:09 bilby WARNING : Failed to create dynesty run plot at checkpoint\n",
      "13:19 bilby INFO    : Written checkpoint file data/simlogs/HL1-injection-uniform_resume.pickle\n",
      "/home/imcmahon/miniconda3/envs/igwn-py39/lib/python3.9/site-packages/dynesty/plotting.py:179: RuntimeWarning: overflow encountered in exp\n",
      "  data = [nlive, np.exp(logl), np.exp(logwt), np.exp(logz)]\n",
      "/home/imcmahon/miniconda3/envs/igwn-py39/lib/python3.9/site-packages/dynesty/plotting.py:203: RuntimeWarning: overflow encountered in exp\n",
      "  zspan = (0., 1.05 * np.exp(logz[-1] + 3. * logzerr[-1]))\n",
      "13:19 bilby WARNING : Axis limits cannot be NaN or Inf\n",
      "13:19 bilby WARNING : Failed to create dynesty run plot at checkpoint\n",
      "13:29 bilby INFO    : Written checkpoint file data/simlogs/HL1-injection-uniform_resume.pickle\n",
      "/home/imcmahon/miniconda3/envs/igwn-py39/lib/python3.9/site-packages/dynesty/plotting.py:179: RuntimeWarning: overflow encountered in exp\n",
      "  data = [nlive, np.exp(logl), np.exp(logwt), np.exp(logz)]\n",
      "/home/imcmahon/miniconda3/envs/igwn-py39/lib/python3.9/site-packages/dynesty/plotting.py:203: RuntimeWarning: overflow encountered in exp\n",
      "  zspan = (0., 1.05 * np.exp(logz[-1] + 3. * logzerr[-1]))\n",
      "13:29 bilby WARNING : Axis limits cannot be NaN or Inf\n",
      "13:29 bilby WARNING : Failed to create dynesty run plot at checkpoint\n",
      "13:39 bilby INFO    : Written checkpoint file data/simlogs/HL1-injection-uniform_resume.pickle\n",
      "/home/imcmahon/miniconda3/envs/igwn-py39/lib/python3.9/site-packages/dynesty/plotting.py:179: RuntimeWarning: overflow encountered in exp\n",
      "  data = [nlive, np.exp(logl), np.exp(logwt), np.exp(logz)]\n",
      "/home/imcmahon/miniconda3/envs/igwn-py39/lib/python3.9/site-packages/dynesty/plotting.py:203: RuntimeWarning: overflow encountered in exp\n",
      "  zspan = (0., 1.05 * np.exp(logz[-1] + 3. * logzerr[-1]))\n",
      "13:39 bilby WARNING : Axis limits cannot be NaN or Inf\n",
      "13:39 bilby WARNING : Failed to create dynesty run plot at checkpoint\n",
      "13:49 bilby INFO    : Written checkpoint file data/simlogs/HL1-injection-uniform_resume.pickle\n",
      "/home/imcmahon/miniconda3/envs/igwn-py39/lib/python3.9/site-packages/dynesty/plotting.py:179: RuntimeWarning: overflow encountered in exp\n",
      "  data = [nlive, np.exp(logl), np.exp(logwt), np.exp(logz)]\n",
      "/home/imcmahon/miniconda3/envs/igwn-py39/lib/python3.9/site-packages/dynesty/plotting.py:203: RuntimeWarning: overflow encountered in exp\n",
      "  zspan = (0., 1.05 * np.exp(logz[-1] + 3. * logzerr[-1]))\n",
      "13:49 bilby WARNING : Axis limits cannot be NaN or Inf\n",
      "13:49 bilby WARNING : Failed to create dynesty run plot at checkpoint\n",
      "14:00 bilby INFO    : Written checkpoint file data/simlogs/HL1-injection-uniform_resume.pickle\n",
      "/home/imcmahon/miniconda3/envs/igwn-py39/lib/python3.9/site-packages/dynesty/plotting.py:179: RuntimeWarning: overflow encountered in exp\n",
      "  data = [nlive, np.exp(logl), np.exp(logwt), np.exp(logz)]\n",
      "/home/imcmahon/miniconda3/envs/igwn-py39/lib/python3.9/site-packages/dynesty/plotting.py:203: RuntimeWarning: overflow encountered in exp\n",
      "  zspan = (0., 1.05 * np.exp(logz[-1] + 3. * logzerr[-1]))\n",
      "14:00 bilby WARNING : Axis limits cannot be NaN or Inf\n",
      "14:00 bilby WARNING : Failed to create dynesty run plot at checkpoint\n",
      "14:10 bilby INFO    : Written checkpoint file data/simlogs/HL1-injection-uniform_resume.pickle\n",
      "/home/imcmahon/miniconda3/envs/igwn-py39/lib/python3.9/site-packages/dynesty/plotting.py:179: RuntimeWarning: overflow encountered in exp\n",
      "  data = [nlive, np.exp(logl), np.exp(logwt), np.exp(logz)]\n",
      "/home/imcmahon/miniconda3/envs/igwn-py39/lib/python3.9/site-packages/dynesty/plotting.py:203: RuntimeWarning: overflow encountered in exp\n",
      "  zspan = (0., 1.05 * np.exp(logz[-1] + 3. * logzerr[-1]))\n",
      "14:10 bilby WARNING : Axis limits cannot be NaN or Inf\n",
      "14:10 bilby WARNING : Failed to create dynesty run plot at checkpoint\n",
      "14:20 bilby INFO    : Written checkpoint file data/simlogs/HL1-injection-uniform_resume.pickle\n",
      "/home/imcmahon/miniconda3/envs/igwn-py39/lib/python3.9/site-packages/dynesty/plotting.py:179: RuntimeWarning: overflow encountered in exp\n",
      "  data = [nlive, np.exp(logl), np.exp(logwt), np.exp(logz)]\n",
      "/home/imcmahon/miniconda3/envs/igwn-py39/lib/python3.9/site-packages/dynesty/plotting.py:203: RuntimeWarning: overflow encountered in exp\n",
      "  zspan = (0., 1.05 * np.exp(logz[-1] + 3. * logzerr[-1]))\n",
      "14:20 bilby WARNING : Axis limits cannot be NaN or Inf\n",
      "14:20 bilby WARNING : Failed to create dynesty run plot at checkpoint\n",
      "14:25 bilby INFO    : Written checkpoint file data/simlogs/HL1-injection-uniform_resume.pickle\n",
      "/home/imcmahon/miniconda3/envs/igwn-py39/lib/python3.9/site-packages/dynesty/plotting.py:179: RuntimeWarning: overflow encountered in exp\n",
      "  data = [nlive, np.exp(logl), np.exp(logwt), np.exp(logz)]\n",
      "/home/imcmahon/miniconda3/envs/igwn-py39/lib/python3.9/site-packages/dynesty/plotting.py:203: RuntimeWarning: overflow encountered in exp\n",
      "  zspan = (0., 1.05 * np.exp(logz[-1] + 3. * logzerr[-1]))\n",
      "14:25 bilby WARNING : Axis limits cannot be NaN or Inf\n",
      "14:25 bilby WARNING : Failed to create dynesty run plot at checkpoint\n"
     ]
    },
    {
     "name": "stdout",
     "output_type": "stream",
     "text": [
      "\n"
     ]
    },
    {
     "name": "stderr",
     "output_type": "stream",
     "text": [
      "14:25 bilby INFO    : Sampling time: 1:45:38.545783\n",
      "14:25 bilby INFO    : Reconstructing marginalised parameters.\n"
     ]
    },
    {
     "data": {
      "application/vnd.jupyter.widget-view+json": {
       "model_id": "1d8fd4ebfc4a49cfb6a4f55571760bc5",
       "version_major": 2,
       "version_minor": 0
      },
      "text/plain": [
       "  0%|          | 0/35407 [00:00<?, ?it/s]"
      ]
     },
     "metadata": {},
     "output_type": "display_data"
    },
    {
     "name": "stderr",
     "output_type": "stream",
     "text": [
      "14:32 bilby INFO    : Generating sky frame parameters.\n"
     ]
    },
    {
     "data": {
      "application/vnd.jupyter.widget-view+json": {
       "model_id": "427545244cfe428aafd9326c270cb8e4",
       "version_major": 2,
       "version_minor": 0
      },
      "text/plain": [
       "  0%|          | 0/35407 [00:00<?, ?it/s]"
      ]
     },
     "metadata": {},
     "output_type": "display_data"
    },
    {
     "name": "stderr",
     "output_type": "stream",
     "text": [
      "14:32 bilby INFO    : Computing SNRs for every sample.\n"
     ]
    },
    {
     "data": {
      "application/vnd.jupyter.widget-view+json": {
       "model_id": "c86d35b07542415ab89154369dfe6f22",
       "version_major": 2,
       "version_minor": 0
      },
      "text/plain": [
       "  0%|          | 0/35407 [00:00<?, ?it/s]"
      ]
     },
     "metadata": {},
     "output_type": "display_data"
    },
    {
     "name": "stderr",
     "output_type": "stream",
     "text": [
      "14:34 bilby INFO    : Summary of results:\n",
      "nsamples: 35407\n",
      "ln_noise_evidence: -11185.269\n",
      "ln_evidence: -8020.145 +/-  0.115\n",
      "ln_bayes_factor: 3165.124 +/-  0.115\n",
      "\n"
     ]
    }
   ],
   "source": [
    "result = bilby.run_sampler(likelihood=likelihood,\n",
    "                           priors=prior,\n",
    "                           sampler=\"dynesty\",\n",
    "                           npoints=2000,\n",
    "                           injection_parameters=injection_parameters,\n",
    "                           outdir=outdir,\n",
    "                           label=name+'-injection-uniform',\n",
    "                           conversion_function=bilby.gw.conversion.generate_all_bbh_parameters\n",
    "                          )"
   ]
  },
  {
   "cell_type": "code",
   "execution_count": 10,
   "id": "40b431da-9084-4edf-aad8-8d5cadeb1843",
   "metadata": {},
   "outputs": [
    {
     "data": {
      "image/png": "[encoded data removed]",
      "text/plain": [
       "<Figure size 432x288 with 1 Axes>"
      ]
     },
     "metadata": {
      "needs_background": "light"
     },
     "output_type": "display_data"
    }
   ],
   "source": [
    "dl = result.posterior[\"luminosity_distance\"].values\n",
    "lower_bound = np.quantile(dl, 0.1)\n",
    "upper_bound = np.quantile(dl, 0.9)\n",
    "median = np.median(dl)\n",
    "mean = np.mean(dl)\n",
    "std = np.std(dl)\n",
    "\n",
    "run_data['un_dl_med'] = median\n",
    "run_data['un_dl_upper'] = upper_bound\n",
    "run_data['un_dl_lower'] = lower_bound\n",
    "run_data['un_dl_avg'] = mean\n",
    "run_data['un_dl_std'] = std\n",
    "\n",
    "fig, ax = pylab.subplots()\n",
    "ax.hist(dl, bins=100)\n",
    "ax.axvspan(lower_bound, upper_bound, color='C1', alpha=0.2)\n",
    "ax.axvline(median, color='C1')\n",
    "ax.axvline(injection_parameters['luminosity_distance'], color='k', linestyle='--')\n",
    "ax.set_xlabel(\"Luminosity Distance\")\n",
    "pylab.show()"
   ]
  },
  {
   "cell_type": "code",
   "execution_count": 11,
   "id": "9425c109-363f-49e8-9514-79e3c6c3dfea",
   "metadata": {},
   "outputs": [
    {
     "data": {
      "image/png": "[encoded data removed]",
      "text/plain": [
       "<Figure size 432x288 with 1 Axes>"
      ]
     },
     "metadata": {
      "needs_background": "light"
     },
     "output_type": "display_data"
    }
   ],
   "source": [
    "ra = result.posterior[\"ra\"].values\n",
    "lower_bound = np.quantile(ra, 0.1)\n",
    "upper_bound = np.quantile(ra, 0.9)\n",
    "median = np.median(ra)\n",
    "mean = np.mean(ra)\n",
    "std = np.std(ra)\n",
    "\n",
    "run_data['un_ra_med'] = median\n",
    "run_data['un_ra_upper'] = upper_bound\n",
    "run_data['un_ra_lower'] = lower_bound\n",
    "run_data['un_ra_avg'] = mean\n",
    "run_data['un_ra_std'] = std\n",
    "\n",
    "fig, ax = pylab.subplots()\n",
    "ax.hist(ra, bins=100)\n",
    "ax.axvspan(lower_bound, upper_bound, color='C1', alpha=0.2)\n",
    "ax.axvline(median, color='C1')\n",
    "ax.axvline(injection_parameters['ra'], color='k', linestyle='--')\n",
    "ax.set_xlabel(\"Right Ascension\")\n",
    "pylab.show()"
   ]
  },
  {
   "cell_type": "code",
   "execution_count": 12,
   "id": "82c6b473-8089-4773-a8b7-cf4b397fef97",
   "metadata": {},
   "outputs": [
    {
     "data": {
      "image/png": "[encoded data removed]",
      "text/plain": [
       "<Figure size 432x288 with 1 Axes>"
      ]
     },
     "metadata": {
      "needs_background": "light"
     },
     "output_type": "display_data"
    }
   ],
   "source": [
    "dec = result.posterior[\"dec\"].values\n",
    "lower_bound = np.quantile(dec, 0.1)\n",
    "upper_bound = np.quantile(dec, 0.9)\n",
    "median = np.median(dec)\n",
    "mean = np.mean(dec)\n",
    "std = np.std(dec)\n",
    "\n",
    "run_data['un_dec_med'] = median\n",
    "run_data['un_dec_upper'] = upper_bound\n",
    "run_data['un_dec_lower'] = lower_bound\n",
    "run_data['un_dec_avg'] = mean\n",
    "run_data['un_dec_std'] = std\n",
    "\n",
    "fig, ax = pylab.subplots()\n",
    "ax.hist(dec, bins=100)\n",
    "ax.axvspan(lower_bound, upper_bound, color='C1', alpha=0.2)\n",
    "ax.axvline(median, color='C1')\n",
    "ax.axvline(injection_parameters['dec'], color='k', linestyle='--')\n",
    "ax.set_xlabel(\"Declination\")\n",
    "pylab.show()"
   ]
  },
  {
   "cell_type": "code",
   "execution_count": 13,
   "id": "290281ea-5b14-4e89-b6c2-9091e4e6893f",
   "metadata": {},
   "outputs": [
    {
     "data": {
      "image/png": "[encoded data removed]",
      "text/plain": [
       "<Figure size 547.2x547.2 with 9 Axes>"
      ]
     },
     "execution_count": 13,
     "metadata": {},
     "output_type": "execute_result"
    }
   ],
   "source": [
    "result.plot_corner(parameters=[\"luminosity_distance\", \"ra\", 'dec'], priors=prior)"
   ]
  },
  {
   "cell_type": "code",
   "execution_count": 14,
   "id": "ff7972e2-c6b1-488e-92d2-f5d4224205ee",
   "metadata": {},
   "outputs": [
    {
     "name": "stderr",
     "output_type": "stream",
     "text": [
      "14:34 bilby INFO    : Writing samples file to /home/imcmahon/Documents/skymap-inference/data/simlogs/HL1-injection-uniform_posterior_samples.dat\n"
     ]
    }
   ],
   "source": [
    "result.save_posterior_samples()"
   ]
  },
  {
   "cell_type": "markdown",
   "id": "15558cac-0cfb-4351-a1f5-07a6648b8347",
   "metadata": {},
   "source": [
    "<h2>HEALPix Run</h2>"
   ]
  },
  {
   "cell_type": "code",
   "execution_count": 15,
   "id": "e44ee7be-f71e-44ad-b4b1-29799f3110c7",
   "metadata": {},
   "outputs": [
    {
     "name": "stderr",
     "output_type": "stream",
     "text": [
      "14:34 bilby INFO    : Waveform generator initiated with\n",
      "  frequency_domain_source_model: bilby.gw.source.lal_binary_black_hole\n",
      "  time_domain_source_model: None\n",
      "  parameter_conversion: bilby.gw.conversion.convert_to_lal_binary_black_hole_parameters\n",
      "14:34 bilby INFO    : Injected signal in H1:\n",
      "14:34 bilby INFO    :   optimal SNR = 54.31\n",
      "14:34 bilby INFO    :   matched filter SNR = 53.96-0.71j\n",
      "14:34 bilby INFO    :   mass_1 = 30.217311217519367\n",
      "14:34 bilby INFO    :   mass_2 = 29.438553059882512\n",
      "14:34 bilby INFO    :   a_1 = 0.7513861074949716\n",
      "14:34 bilby INFO    :   a_2 = 0.6775246946853614\n",
      "14:34 bilby INFO    :   tilt_1 = 0.4195402987370333\n",
      "14:34 bilby INFO    :   tilt_2 = 0.9471592794232708\n",
      "14:34 bilby INFO    :   phi_12 = 5.605047812344974\n",
      "14:34 bilby INFO    :   phi_jl = 0.16950619973375008\n",
      "14:34 bilby INFO    :   luminosity_distance = 373.0783085045788\n",
      "14:34 bilby INFO    :   theta_jn = 1.9960130340723063\n",
      "14:34 bilby INFO    :   psi = 0.7922942262461422\n",
      "14:34 bilby INFO    :   phase = 1.621087868414289\n",
      "14:34 bilby INFO    :   geocent_time = 1134012973.5786135\n",
      "14:34 bilby INFO    :   ra = 3.9921247959136963\n",
      "14:34 bilby INFO    :   dec = -0.7903082966804504\n",
      "14:34 bilby INFO    : Injected signal in L1:\n",
      "14:34 bilby INFO    :   optimal SNR = 58.34\n",
      "14:34 bilby INFO    :   matched filter SNR = 58.76-0.22j\n",
      "14:34 bilby INFO    :   mass_1 = 30.217311217519367\n",
      "14:34 bilby INFO    :   mass_2 = 29.438553059882512\n",
      "14:34 bilby INFO    :   a_1 = 0.7513861074949716\n",
      "14:34 bilby INFO    :   a_2 = 0.6775246946853614\n",
      "14:34 bilby INFO    :   tilt_1 = 0.4195402987370333\n",
      "14:34 bilby INFO    :   tilt_2 = 0.9471592794232708\n",
      "14:34 bilby INFO    :   phi_12 = 5.605047812344974\n",
      "14:34 bilby INFO    :   phi_jl = 0.16950619973375008\n",
      "14:34 bilby INFO    :   luminosity_distance = 373.0783085045788\n",
      "14:34 bilby INFO    :   theta_jn = 1.9960130340723063\n",
      "14:34 bilby INFO    :   psi = 0.7922942262461422\n",
      "14:34 bilby INFO    :   phase = 1.621087868414289\n",
      "14:34 bilby INFO    :   geocent_time = 1134012973.5786135\n",
      "14:34 bilby INFO    :   ra = 3.9921247959136963\n",
      "14:34 bilby INFO    :   dec = -0.7903082966804504\n"
     ]
    },
    {
     "data": {
      "text/plain": [
       "[{'plus': array([0.-0.j, 0.-0.j, 0.-0.j, ..., 0.-0.j, 0.-0.j, 0.-0.j]),\n",
       "  'cross': array([0.+0.j, 0.+0.j, 0.+0.j, ..., 0.+0.j, 0.+0.j, 0.+0.j])},\n",
       " {'plus': array([0.-0.j, 0.-0.j, 0.-0.j, ..., 0.-0.j, 0.-0.j, 0.-0.j]),\n",
       "  'cross': array([0.+0.j, 0.+0.j, 0.+0.j, ..., 0.+0.j, 0.+0.j, 0.+0.j])}]"
      ]
     },
     "execution_count": 15,
     "metadata": {},
     "output_type": "execute_result"
    }
   ],
   "source": [
    "waveform_arguments = dict(waveform_approximant=\"IMRPhenomPv2\",\n",
    "                          reference_frequency=50.0,\n",
    "                          minimum_frequency=minimum_frequency\n",
    "                         )\n",
    "\n",
    "waveform_generator = bilby.gw.WaveformGenerator(duration=duration,\n",
    "                                                sampling_frequency=sampling_frequency,\n",
    "                                                frequency_domain_source_model=bilby.gw.source.lal_binary_black_hole,\n",
    "                                                parameter_conversion=bilby.gw.conversion.convert_to_lal_binary_black_hole_parameters,\n",
    "                                                waveform_arguments=waveform_arguments\n",
    "                                               )\n",
    "\n",
    "ifos = bilby.gw.detector.InterferometerList([\"H1\", \"L1\"])\n",
    "\n",
    "ifos.set_strain_data_from_power_spectral_densities(sampling_frequency=sampling_frequency,\n",
    "                                                   duration=duration,\n",
    "                                                   start_time=injection_parameters[\"geocent_time\"] - 2\n",
    "                                                  )\n",
    "\n",
    "ifos.inject_signal(waveform_generator=waveform_generator, parameters=injection_parameters)"
   ]
  },
  {
   "cell_type": "code",
   "execution_count": 17,
   "id": "c94d6d17-c4c6-4a05-bca2-f8417831bee5",
   "metadata": {},
   "outputs": [
    {
     "name": "stderr",
     "output_type": "stream",
     "text": [
      "14:36 bilby INFO    : Loaded distance marginalisation lookup table does not match for distance_array.\n",
      "14:36 bilby INFO    : Building lookup table for distance marginalisation.\n"
     ]
    },
    {
     "data": {
      "application/vnd.jupyter.widget-view+json": {
       "model_id": "556090842aa6429cba177582ffb3e962",
       "version_major": 2,
       "version_minor": 0
      },
      "text/plain": [
       "  0%|          | 0/400 [00:00<?, ?it/s]"
      ]
     },
     "metadata": {},
     "output_type": "display_data"
    }
   ],
   "source": [
    "prior = bilby.gw.prior.PriorDict()\n",
    "for key in [\"mass_1\",\n",
    "            \"mass_2\",\n",
    "            \"a_1\",\n",
    "            \"a_2\",\n",
    "            \"tilt_1\",\n",
    "            \"tilt_2\",\n",
    "            \"theta_jn\",\n",
    "            \"phi_12\",\n",
    "            \"phi_jl\",\n",
    "            \"psi\",\n",
    "            \"phase\",\n",
    "           ]:\n",
    "    prior[key] = injection_parameters[key]\n",
    "\n",
    "prior[\"luminosity_distance\"] = bilby.core.prior.PowerLaw(alpha=2, name='luminosity_distance', minimum=np.min(dl), maximum=1500, unit='Mpc', latex_label='$d_L$')\n",
    "prior[\"geocent_time\"] = bilby.core.prior.Uniform(injection_parameters['geocent_time']-0.1, injection_parameters['geocent_time']+0.1, name=\"geocent_time\")\n",
    "\n",
    "hp_prior = bilby.gw.prior.HealPixMapPriorDist('data/catalog_skymap.fits', names=['ra', 'dec'], bounds={'ra': (0, 2*np.pi), 'dec': (-np.pi/2, np.pi/2)})\n",
    "prior[\"ra\"] = bilby.gw.prior.HealPixPrior(hp_prior, 'ra')\n",
    "prior[\"dec\"] = bilby.gw.prior.HealPixPrior(hp_prior, 'dec')\n",
    "\n",
    "likelihood = bilby.gw.GravitationalWaveTransient(interferometers=ifos, waveform_generator=waveform_generator, priors=prior,\n",
    "                                                 time_marginalization=True, phase_marginalization=False, distance_marginalization=True)"
   ]
  },
  {
   "cell_type": "code",
   "execution_count": 18,
   "id": "87e9856f-0448-4b3b-8e57-76020420d2d5",
   "metadata": {},
   "outputs": [
    {
     "name": "stderr",
     "output_type": "stream",
     "text": [
      "14:36 bilby INFO    : Running for label 'HL1-injection-healpix', output will be saved to 'data/simlogs'\n",
      "14:36 bilby INFO    : Using lal version 7.1.7\n",
      "14:36 bilby INFO    : Using lal git version Branch: None;Tag: lal-v7.1.7;Id: c0930b69d9f2ad7151d1cadea5df72633ec47e67;;Builder: Adam Mercer <adam.mercer@ligo.org>;Repository status: CLEAN: All modifications committed\n",
      "14:36 bilby INFO    : Using lalsimulation version 3.1.2\n",
      "14:36 bilby INFO    : Using lalsimulation git version Branch: None;Tag: lalsimulation-v3.1.2;Id: 8c3a6977aa553c9a2019ec287a61dc5ee92087b4;;Builder: Adam Mercer <adam.mercer@ligo.org>;Repository status: CLEAN: All modifications committed\n",
      "14:36 bilby INFO    : Search parameters:\n",
      "14:36 bilby INFO    :   ra = HealPixPrior(dist=HealPixMapPriorDist(hp_file='data/catalog_skymap.fits', names=['ra', 'dec'], bounds={'ra': (0, 6.283185307179586), 'dec': (-1.5707963267948966, 1.5707963267948966)}, distance=False), name='ra', latex_label='$\\\\mathrm{RA}$', unit=None)\n",
      "14:36 bilby INFO    :   dec = HealPixPrior(dist=HealPixMapPriorDist(hp_file='data/catalog_skymap.fits', names=['ra', 'dec'], bounds={'ra': (0, 6.283185307179586), 'dec': (-1.5707963267948966, 1.5707963267948966)}, distance=False), name='dec', latex_label='$\\\\mathrm{DEC}$', unit=None)\n",
      "14:36 bilby INFO    :   time_jitter = Uniform(minimum=-0.00048828125, maximum=0.00048828125, name='time_jitter', latex_label='$t_j$', unit=None, boundary='periodic')\n",
      "14:36 bilby INFO    :   mass_1 = 30.217311217519367\n",
      "14:36 bilby INFO    :   mass_2 = 29.438553059882512\n",
      "14:36 bilby INFO    :   a_1 = 0.7513861074949716\n",
      "14:36 bilby INFO    :   a_2 = 0.6775246946853614\n",
      "14:36 bilby INFO    :   tilt_1 = 0.4195402987370333\n",
      "14:36 bilby INFO    :   tilt_2 = 0.9471592794232708\n",
      "14:36 bilby INFO    :   theta_jn = 1.9960130340723063\n",
      "14:36 bilby INFO    :   phi_12 = 5.605047812344974\n",
      "14:36 bilby INFO    :   phi_jl = 0.16950619973375008\n",
      "14:36 bilby INFO    :   psi = 0.7922942262461422\n",
      "14:36 bilby INFO    :   phase = 1.621087868414289\n",
      "14:36 bilby INFO    :   luminosity_distance = 1195.4361841772961\n",
      "14:36 bilby INFO    :   geocent_time = 1134012971.5786135\n",
      "14:36 bilby INFO    : Single likelihood evaluation took 1.323e-01 s\n"
     ]
    },
    {
     "data": {
      "application/vnd.jupyter.widget-view+json": {
       "model_id": "6ac7bbd5bc994a5baf91a68f585a77c3",
       "version_major": 2,
       "version_minor": 0
      },
      "text/plain": [
       "0it [00:00, ?it/s]"
      ]
     },
     "metadata": {},
     "output_type": "display_data"
    },
    {
     "name": "stderr",
     "output_type": "stream",
     "text": [
      "14:36 bilby INFO    : Using sampler Dynesty with kwargs {'bound': 'multi', 'sample': 'rwalk', 'verbose': True, 'periodic': None, 'reflective': None, 'check_point_delta_t': 1800, 'nlive': 2000, 'first_update': None, 'walks': 100, 'npdim': None, 'rstate': None, 'queue_size': 1, 'pool': None, 'use_pool': None, 'live_points': None, 'logl_args': None, 'logl_kwargs': None, 'ptform_args': None, 'ptform_kwargs': None, 'enlarge': 1.5, 'bootstrap': None, 'vol_dec': 0.5, 'vol_check': 8.0, 'facc': 0.2, 'slices': 5, 'update_interval': 1200, 'print_func': <bound method Dynesty._print_func of <bilby.core.sampler.dynesty.Dynesty object at 0x7fdf47b26b20>>, 'dlogz': 0.1, 'maxiter': None, 'maxcall': None, 'logl_max': inf, 'add_live': True, 'print_progress': True, 'save_bounds': False, 'n_effective': None, 'maxmcmc': 5000, 'nact': 5, 'print_method': 'tqdm'}\n",
      "14:36 bilby INFO    : Checkpoint every check_point_delta_t = 600s\n",
      "14:36 bilby INFO    : Using dynesty version 1.0.1\n",
      "14:36 bilby INFO    : Using the bilby-implemented rwalk sample method with ACT estimated walks\n",
      "14:36 bilby INFO    : Resume file data/simlogs/HL1-injection-healpix_resume.pickle does not exist.\n",
      "14:36 bilby INFO    : Generating initial points from the prior\n",
      "14:47 bilby INFO    : Written checkpoint file data/simlogs/HL1-injection-healpix_resume.pickle\n",
      "/home/imcmahon/miniconda3/envs/igwn-py39/lib/python3.9/site-packages/dynesty/plotting.py:179: RuntimeWarning: overflow encountered in exp\n",
      "  data = [nlive, np.exp(logl), np.exp(logwt), np.exp(logz)]\n",
      "/home/imcmahon/miniconda3/envs/igwn-py39/lib/python3.9/site-packages/dynesty/plotting.py:203: RuntimeWarning: overflow encountered in exp\n",
      "  zspan = (0., 1.05 * np.exp(logz[-1] + 3. * logzerr[-1]))\n",
      "14:47 bilby WARNING : Axis limits cannot be NaN or Inf\n",
      "14:47 bilby WARNING : Failed to create dynesty run plot at checkpoint\n",
      "14:57 bilby INFO    : Written checkpoint file data/simlogs/HL1-injection-healpix_resume.pickle\n",
      "/home/imcmahon/miniconda3/envs/igwn-py39/lib/python3.9/site-packages/dynesty/plotting.py:179: RuntimeWarning: overflow encountered in exp\n",
      "  data = [nlive, np.exp(logl), np.exp(logwt), np.exp(logz)]\n",
      "/home/imcmahon/miniconda3/envs/igwn-py39/lib/python3.9/site-packages/dynesty/plotting.py:203: RuntimeWarning: overflow encountered in exp\n",
      "  zspan = (0., 1.05 * np.exp(logz[-1] + 3. * logzerr[-1]))\n",
      "14:57 bilby WARNING : Axis limits cannot be NaN or Inf\n",
      "14:57 bilby WARNING : Failed to create dynesty run plot at checkpoint\n",
      "15:07 bilby INFO    : Written checkpoint file data/simlogs/HL1-injection-healpix_resume.pickle\n",
      "/home/imcmahon/miniconda3/envs/igwn-py39/lib/python3.9/site-packages/dynesty/plotting.py:179: RuntimeWarning: overflow encountered in exp\n",
      "  data = [nlive, np.exp(logl), np.exp(logwt), np.exp(logz)]\n",
      "/home/imcmahon/miniconda3/envs/igwn-py39/lib/python3.9/site-packages/dynesty/plotting.py:203: RuntimeWarning: overflow encountered in exp\n",
      "  zspan = (0., 1.05 * np.exp(logz[-1] + 3. * logzerr[-1]))\n",
      "15:07 bilby WARNING : Axis limits cannot be NaN or Inf\n",
      "15:07 bilby WARNING : Failed to create dynesty run plot at checkpoint\n",
      "15:17 bilby INFO    : Written checkpoint file data/simlogs/HL1-injection-healpix_resume.pickle\n",
      "/home/imcmahon/miniconda3/envs/igwn-py39/lib/python3.9/site-packages/dynesty/plotting.py:179: RuntimeWarning: overflow encountered in exp\n",
      "  data = [nlive, np.exp(logl), np.exp(logwt), np.exp(logz)]\n",
      "/home/imcmahon/miniconda3/envs/igwn-py39/lib/python3.9/site-packages/dynesty/plotting.py:203: RuntimeWarning: overflow encountered in exp\n",
      "  zspan = (0., 1.05 * np.exp(logz[-1] + 3. * logzerr[-1]))\n",
      "15:17 bilby WARNING : Axis limits cannot be NaN or Inf\n",
      "15:17 bilby WARNING : Failed to create dynesty run plot at checkpoint\n",
      "15:27 bilby INFO    : Written checkpoint file data/simlogs/HL1-injection-healpix_resume.pickle\n",
      "/home/imcmahon/miniconda3/envs/igwn-py39/lib/python3.9/site-packages/dynesty/plotting.py:179: RuntimeWarning: overflow encountered in exp\n",
      "  data = [nlive, np.exp(logl), np.exp(logwt), np.exp(logz)]\n",
      "/home/imcmahon/miniconda3/envs/igwn-py39/lib/python3.9/site-packages/dynesty/plotting.py:203: RuntimeWarning: overflow encountered in exp\n",
      "  zspan = (0., 1.05 * np.exp(logz[-1] + 3. * logzerr[-1]))\n",
      "15:27 bilby WARNING : Axis limits cannot be NaN or Inf\n",
      "15:27 bilby WARNING : Failed to create dynesty run plot at checkpoint\n",
      "15:37 bilby INFO    : Written checkpoint file data/simlogs/HL1-injection-healpix_resume.pickle\n",
      "/home/imcmahon/miniconda3/envs/igwn-py39/lib/python3.9/site-packages/dynesty/plotting.py:179: RuntimeWarning: overflow encountered in exp\n",
      "  data = [nlive, np.exp(logl), np.exp(logwt), np.exp(logz)]\n",
      "/home/imcmahon/miniconda3/envs/igwn-py39/lib/python3.9/site-packages/dynesty/plotting.py:203: RuntimeWarning: overflow encountered in exp\n",
      "  zspan = (0., 1.05 * np.exp(logz[-1] + 3. * logzerr[-1]))\n",
      "15:37 bilby WARNING : Axis limits cannot be NaN or Inf\n",
      "15:37 bilby WARNING : Failed to create dynesty run plot at checkpoint\n",
      "15:47 bilby INFO    : Written checkpoint file data/simlogs/HL1-injection-healpix_resume.pickle\n",
      "/home/imcmahon/miniconda3/envs/igwn-py39/lib/python3.9/site-packages/dynesty/plotting.py:179: RuntimeWarning: overflow encountered in exp\n",
      "  data = [nlive, np.exp(logl), np.exp(logwt), np.exp(logz)]\n",
      "/home/imcmahon/miniconda3/envs/igwn-py39/lib/python3.9/site-packages/dynesty/plotting.py:203: RuntimeWarning: overflow encountered in exp\n",
      "  zspan = (0., 1.05 * np.exp(logz[-1] + 3. * logzerr[-1]))\n",
      "15:47 bilby WARNING : Axis limits cannot be NaN or Inf\n",
      "15:47 bilby WARNING : Failed to create dynesty run plot at checkpoint\n",
      "15:57 bilby INFO    : Written checkpoint file data/simlogs/HL1-injection-healpix_resume.pickle\n",
      "/home/imcmahon/miniconda3/envs/igwn-py39/lib/python3.9/site-packages/dynesty/plotting.py:179: RuntimeWarning: overflow encountered in exp\n",
      "  data = [nlive, np.exp(logl), np.exp(logwt), np.exp(logz)]\n",
      "/home/imcmahon/miniconda3/envs/igwn-py39/lib/python3.9/site-packages/dynesty/plotting.py:203: RuntimeWarning: overflow encountered in exp\n",
      "  zspan = (0., 1.05 * np.exp(logz[-1] + 3. * logzerr[-1]))\n",
      "15:57 bilby WARNING : Axis limits cannot be NaN or Inf\n",
      "15:57 bilby WARNING : Failed to create dynesty run plot at checkpoint\n",
      "16:07 bilby INFO    : Written checkpoint file data/simlogs/HL1-injection-healpix_resume.pickle\n",
      "/home/imcmahon/miniconda3/envs/igwn-py39/lib/python3.9/site-packages/dynesty/plotting.py:179: RuntimeWarning: overflow encountered in exp\n",
      "  data = [nlive, np.exp(logl), np.exp(logwt), np.exp(logz)]\n",
      "/home/imcmahon/miniconda3/envs/igwn-py39/lib/python3.9/site-packages/dynesty/plotting.py:203: RuntimeWarning: overflow encountered in exp\n",
      "  zspan = (0., 1.05 * np.exp(logz[-1] + 3. * logzerr[-1]))\n",
      "16:07 bilby WARNING : Axis limits cannot be NaN or Inf\n",
      "16:07 bilby WARNING : Failed to create dynesty run plot at checkpoint\n",
      "16:17 bilby INFO    : Written checkpoint file data/simlogs/HL1-injection-healpix_resume.pickle\n",
      "/home/imcmahon/miniconda3/envs/igwn-py39/lib/python3.9/site-packages/dynesty/plotting.py:179: RuntimeWarning: overflow encountered in exp\n",
      "  data = [nlive, np.exp(logl), np.exp(logwt), np.exp(logz)]\n",
      "/home/imcmahon/miniconda3/envs/igwn-py39/lib/python3.9/site-packages/dynesty/plotting.py:203: RuntimeWarning: overflow encountered in exp\n",
      "  zspan = (0., 1.05 * np.exp(logz[-1] + 3. * logzerr[-1]))\n",
      "16:18 bilby WARNING : Axis limits cannot be NaN or Inf\n",
      "16:18 bilby WARNING : Failed to create dynesty run plot at checkpoint\n",
      "16:28 bilby INFO    : Written checkpoint file data/simlogs/HL1-injection-healpix_resume.pickle\n",
      "/home/imcmahon/miniconda3/envs/igwn-py39/lib/python3.9/site-packages/dynesty/plotting.py:179: RuntimeWarning: overflow encountered in exp\n",
      "  data = [nlive, np.exp(logl), np.exp(logwt), np.exp(logz)]\n",
      "/home/imcmahon/miniconda3/envs/igwn-py39/lib/python3.9/site-packages/dynesty/plotting.py:203: RuntimeWarning: overflow encountered in exp\n",
      "  zspan = (0., 1.05 * np.exp(logz[-1] + 3. * logzerr[-1]))\n",
      "16:28 bilby WARNING : Axis limits cannot be NaN or Inf\n",
      "16:28 bilby WARNING : Failed to create dynesty run plot at checkpoint\n",
      "16:38 bilby INFO    : Written checkpoint file data/simlogs/HL1-injection-healpix_resume.pickle\n",
      "/home/imcmahon/miniconda3/envs/igwn-py39/lib/python3.9/site-packages/dynesty/plotting.py:179: RuntimeWarning: overflow encountered in exp\n",
      "  data = [nlive, np.exp(logl), np.exp(logwt), np.exp(logz)]\n",
      "/home/imcmahon/miniconda3/envs/igwn-py39/lib/python3.9/site-packages/dynesty/plotting.py:203: RuntimeWarning: overflow encountered in exp\n",
      "  zspan = (0., 1.05 * np.exp(logz[-1] + 3. * logzerr[-1]))\n",
      "16:38 bilby WARNING : Axis limits cannot be NaN or Inf\n",
      "16:38 bilby WARNING : Failed to create dynesty run plot at checkpoint\n",
      "16:48 bilby INFO    : Written checkpoint file data/simlogs/HL1-injection-healpix_resume.pickle\n",
      "/home/imcmahon/miniconda3/envs/igwn-py39/lib/python3.9/site-packages/dynesty/plotting.py:179: RuntimeWarning: overflow encountered in exp\n",
      "  data = [nlive, np.exp(logl), np.exp(logwt), np.exp(logz)]\n",
      "/home/imcmahon/miniconda3/envs/igwn-py39/lib/python3.9/site-packages/dynesty/plotting.py:203: RuntimeWarning: overflow encountered in exp\n",
      "  zspan = (0., 1.05 * np.exp(logz[-1] + 3. * logzerr[-1]))\n",
      "16:48 bilby WARNING : Axis limits cannot be NaN or Inf\n",
      "16:48 bilby WARNING : Failed to create dynesty run plot at checkpoint\n",
      "16:49 bilby INFO    : Written checkpoint file data/simlogs/HL1-injection-healpix_resume.pickle\n",
      "/home/imcmahon/miniconda3/envs/igwn-py39/lib/python3.9/site-packages/dynesty/plotting.py:179: RuntimeWarning: overflow encountered in exp\n",
      "  data = [nlive, np.exp(logl), np.exp(logwt), np.exp(logz)]\n",
      "/home/imcmahon/miniconda3/envs/igwn-py39/lib/python3.9/site-packages/dynesty/plotting.py:203: RuntimeWarning: overflow encountered in exp\n",
      "  zspan = (0., 1.05 * np.exp(logz[-1] + 3. * logzerr[-1]))\n",
      "16:49 bilby WARNING : Axis limits cannot be NaN or Inf\n",
      "16:49 bilby WARNING : Failed to create dynesty run plot at checkpoint\n"
     ]
    },
    {
     "name": "stdout",
     "output_type": "stream",
     "text": [
      "\n"
     ]
    },
    {
     "name": "stderr",
     "output_type": "stream",
     "text": [
      "16:49 bilby INFO    : Sampling time: 2:11:45.421168\n",
      "16:49 bilby INFO    : Reconstructing marginalised parameters.\n"
     ]
    },
    {
     "data": {
      "application/vnd.jupyter.widget-view+json": {
       "model_id": "996e6060956e4ab189e5a26bc3416202",
       "version_major": 2,
       "version_minor": 0
      },
      "text/plain": [
       "  0%|          | 0/32854 [00:00<?, ?it/s]"
      ]
     },
     "metadata": {},
     "output_type": "display_data"
    },
    {
     "name": "stderr",
     "output_type": "stream",
     "text": [
      "16:55 bilby INFO    : Generating sky frame parameters.\n"
     ]
    },
    {
     "data": {
      "application/vnd.jupyter.widget-view+json": {
       "model_id": "127ff0f712d84be2a29b22900a14d0ae",
       "version_major": 2,
       "version_minor": 0
      },
      "text/plain": [
       "  0%|          | 0/32854 [00:00<?, ?it/s]"
      ]
     },
     "metadata": {},
     "output_type": "display_data"
    },
    {
     "name": "stderr",
     "output_type": "stream",
     "text": [
      "16:55 bilby INFO    : Computing SNRs for every sample.\n"
     ]
    },
    {
     "data": {
      "application/vnd.jupyter.widget-view+json": {
       "model_id": "3383e8ee55ef466293689030932069b7",
       "version_major": 2,
       "version_minor": 0
      },
      "text/plain": [
       "  0%|          | 0/32854 [00:00<?, ?it/s]"
      ]
     },
     "metadata": {},
     "output_type": "display_data"
    },
    {
     "name": "stderr",
     "output_type": "stream",
     "text": [
      "16:57 bilby INFO    : Summary of results:\n",
      "nsamples: 32854\n",
      "ln_noise_evidence: -11140.992\n",
      "ln_evidence: -7983.310 +/-  0.110\n",
      "ln_bayes_factor: 3157.682 +/-  0.110\n",
      "\n"
     ]
    }
   ],
   "source": [
    "result_hp = bilby.run_sampler(likelihood=likelihood,\n",
    "                           priors=prior,\n",
    "                           sampler=\"dynesty\",\n",
    "                           npoints=2000,\n",
    "                           injection_parameters=injection_parameters,\n",
    "                           outdir=outdir,\n",
    "                           label=name+'-injection-healpix',\n",
    "                           conversion_function=bilby.gw.conversion.generate_all_bbh_parameters\n",
    "                          )"
   ]
  },
  {
   "cell_type": "code",
   "execution_count": 19,
   "id": "58dfd1e1-473d-411b-bbe1-e43c01caf600",
   "metadata": {},
   "outputs": [
    {
     "data": {
      "image/png": "[encoded data removed]",
      "text/plain": [
       "<Figure size 432x288 with 1 Axes>"
      ]
     },
     "metadata": {
      "needs_background": "light"
     },
     "output_type": "display_data"
    }
   ],
   "source": [
    "dl = result_hp.posterior[\"luminosity_distance\"].values\n",
    "lower_bound = np.quantile(dl, 0.1)\n",
    "upper_bound = np.quantile(dl, 0.9)\n",
    "median = np.median(dl)\n",
    "mean = np.mean(dl)\n",
    "std = np.std(dl)\n",
    "\n",
    "run_data['hp_dl_med'] = median\n",
    "run_data['hp_dl_upper'] = upper_bound\n",
    "run_data['hp_dl_lower'] = lower_bound\n",
    "run_data['hp_dl_avg'] = mean\n",
    "run_data['hp_dl_std'] = std\n",
    "\n",
    "fig, ax = pylab.subplots()\n",
    "ax.hist(dl, bins=100)\n",
    "ax.axvspan(lower_bound, upper_bound, color='C1', alpha=0.2)\n",
    "ax.axvline(median, color='C1')\n",
    "ax.axvline(injection_parameters['luminosity_distance'], color='k', linestyle='--')\n",
    "ax.set_xlabel(\"Luminosity Distance\")\n",
    "pylab.show()"
   ]
  },
  {
   "cell_type": "code",
   "execution_count": 20,
   "id": "f3aa38c8-32af-4ee6-b6bb-edd456f3551b",
   "metadata": {},
   "outputs": [
    {
     "data": {
      "image/png": "[encoded data removed]",
      "text/plain": [
       "<Figure size 432x288 with 1 Axes>"
      ]
     },
     "metadata": {
      "needs_background": "light"
     },
     "output_type": "display_data"
    }
   ],
   "source": [
    "ra = result_hp.posterior[\"ra\"].values\n",
    "lower_bound = np.quantile(ra, 0.1)\n",
    "upper_bound = np.quantile(ra, 0.9)\n",
    "median = np.median(ra)\n",
    "mean = np.mean(ra)\n",
    "std = np.std(ra)\n",
    "\n",
    "run_data['hp_ra_med'] = median\n",
    "run_data['hp_ra_upper'] = upper_bound\n",
    "run_data['hp_ra_lower'] = lower_bound\n",
    "run_data['hp_ra_avg'] = mean\n",
    "run_data['hp_ra_std'] = std\n",
    "\n",
    "fig, ax = pylab.subplots()\n",
    "ax.hist(ra, bins=100)\n",
    "ax.axvspan(lower_bound, upper_bound, color='C1', alpha=0.2)\n",
    "ax.axvline(median, color='C1')\n",
    "ax.axvline(injection_parameters['ra'], color='k', linestyle='--')\n",
    "ax.set_xlabel(\"Right Ascension\")\n",
    "pylab.show()"
   ]
  },
  {
   "cell_type": "code",
   "execution_count": 21,
   "id": "c2a46b0a-68c2-4ca8-937c-c3b258078484",
   "metadata": {},
   "outputs": [
    {
     "data": {
      "image/png": "[encoded data removed]",
      "text/plain": [
       "<Figure size 432x288 with 1 Axes>"
      ]
     },
     "metadata": {
      "needs_background": "light"
     },
     "output_type": "display_data"
    }
   ],
   "source": [
    "dec = result_hp.posterior[\"dec\"].values\n",
    "lower_bound = np.quantile(dec, 0.1)\n",
    "upper_bound = np.quantile(dec, 0.9)\n",
    "median = np.median(dec)\n",
    "mean = np.mean(dec)\n",
    "std = np.std(dec)\n",
    "\n",
    "run_data['hp_dec_med'] = median\n",
    "run_data['hp_dec_upper'] = upper_bound\n",
    "run_data['hp_dec_lower'] = lower_bound\n",
    "run_data['hp_dec_avg'] = mean\n",
    "run_data['hp_dec_std'] = std\n",
    "\n",
    "fig, ax = pylab.subplots()\n",
    "ax.hist(dec, bins=100)\n",
    "ax.axvspan(lower_bound, upper_bound, color='C1', alpha=0.2)\n",
    "ax.axvline(median, color='C1')\n",
    "ax.axvline(injection_parameters['dec'], color='k', linestyle='--')\n",
    "ax.set_xlabel(\"Declination\")\n",
    "pylab.show()"
   ]
  },
  {
   "cell_type": "code",
   "execution_count": 22,
   "id": "70dcc07b-cb63-4bf1-882e-dc7be2fb926c",
   "metadata": {},
   "outputs": [
    {
     "data": {
      "image/png": "[encoded data removed]",
      "text/plain": [
       "<Figure size 547.2x547.2 with 9 Axes>"
      ]
     },
     "execution_count": 22,
     "metadata": {},
     "output_type": "execute_result"
    }
   ],
   "source": [
    "result_hp.plot_corner(parameters=[\"luminosity_distance\", \"ra\", 'dec'], priors=prior)"
   ]
  },
  {
   "cell_type": "code",
   "execution_count": 23,
   "id": "ae5c5187-ee0d-4866-b5e5-ab05d4c7b14c",
   "metadata": {},
   "outputs": [
    {
     "name": "stderr",
     "output_type": "stream",
     "text": [
      "16:57 bilby INFO    : Writing samples file to /home/imcmahon/Documents/skymap-inference/data/simlogs/HL1-injection-healpix_posterior_samples.dat\n"
     ]
    }
   ],
   "source": [
    "result_hp.save_posterior_samples()"
   ]
  },
  {
   "cell_type": "markdown",
   "id": "5247455d-9889-441b-b0ff-5af64822c896",
   "metadata": {},
   "source": [
    "<h2>Save Results</h2>"
   ]
  },
  {
   "cell_type": "code",
   "execution_count": 40,
   "id": "2bd69ce2-a396-41ae-b957-7de177b55c64",
   "metadata": {},
   "outputs": [],
   "source": [
    "pd.DataFrame([run_data]).to_csv('data/sim_results.csv', mode='a', index=False, header=False)"
   ]
  }
 ],
 "metadata": {
  "kernelspec": {
   "display_name": "Python (igwn-py39)",
   "language": "python",
   "name": "igwn-py39"
  },
  "language_info": {
   "codemirror_mode": {
    "name": "ipython",
    "version": 3
   },
   "file_extension": ".py",
   "mimetype": "text/x-python",
   "name": "python",
   "nbconvert_exporter": "python",
   "pygments_lexer": "ipython3",
   "version": "3.9.12"
  }
 },
 "nbformat": 4,
 "nbformat_minor": 5
}
